{
 "cells": [
  {
   "cell_type": "code",
   "execution_count": 1,
   "id": "7d52e5a8",
   "metadata": {},
   "outputs": [],
   "source": [
    "import gensim"
   ]
  },
  {
   "cell_type": "code",
   "execution_count": 2,
   "id": "10436a4f",
   "metadata": {},
   "outputs": [
    {
     "data": {
      "text/plain": [
       "643"
      ]
     },
     "execution_count": 2,
     "metadata": {},
     "output_type": "execute_result"
    }
   ],
   "source": [
    "import pandas as pd\n",
    "df=pd.read_csv('processedDEV.csv')\n",
    "df=df.drop(['Unnamed: 0'], axis = 1)\n",
    "my_list=df.to_numpy().tolist()\n",
    "len(my_list)"
   ]
  },
  {
   "cell_type": "code",
   "execution_count": 3,
   "id": "563a6a81",
   "metadata": {},
   "outputs": [],
   "source": [
    "my_root=pd.read_csv('C:/Users/Kois/LDA/unLemmaDEV.csv')\n",
    "my_root=my_root.drop(['Unnamed: 0'], axis = 1)\n",
    "my_root=my_root.to_numpy().tolist()\n",
    "#my_root"
   ]
  },
  {
   "cell_type": "code",
   "execution_count": 4,
   "id": "5a34dde3",
   "metadata": {
    "scrolled": false
   },
   "outputs": [
    {
     "data": {
      "text/plain": [
       "643"
      ]
     },
     "execution_count": 4,
     "metadata": {},
     "output_type": "execute_result"
    }
   ],
   "source": [
    "new_list=[]\n",
    "temp_list=[]\n",
    "for x in my_root:\n",
    "    for item in x:\n",
    "        if str(item) != 'nan':\n",
    "            temp_list.append(item)\n",
    "    new_list.append(temp_list)\n",
    "    temp_list=[]\n",
    "len(new_list)"
   ]
  },
  {
   "cell_type": "code",
   "execution_count": 5,
   "id": "df362b37",
   "metadata": {},
   "outputs": [],
   "source": [
    "stop_words=['እኔ', 'የእኔ', 'እኔራሤ', 'እኛ', 'የእኛ', 'እኛራሣችን', 'አንቺ', 'ነህ', 'አላችሁ', 'እርሥዎ', 'ትፈልጋለህ', 'ያንተ', 'ራሥህን', 'እራሣችሁ', 'እሡ', 'የእሡ',\n",
    " 'ራሡ', 'እሷ', 'እሷናት', 'የእሷ', 'እራሷ', 'ነው', 'እነሡ', 'እነሡን', 'የእነሡ', 'ራሣቸው', 'ምንድን', 'የትኛው', 'ማን', 'ይህ', 'የሚልነው', 'ያ', 'እነዚህ', 'እነዚያ', 'ነኝ', 'ናቸው', 'ነበር', 'ነበሩ', 'ሁን', 'ቆይቷል', 'መሆን',\n",
    " 'አላቸው', 'አለው', 'ነበረው', 'ያለው', 'መሥራት', 'ያደርጋል', 'አደረገ', 'ማድረግ', 'ሀ', 'አንድ', 'የ', 'እና', 'ከሆነ', 'ወይም', 'ምክንያቱም',\n",
    " 'እንደ', 'እሥከ', 'እያለ', 'በ', 'ለ', 'ጋር', 'ሥለ', 'ላይ', 'መካከል', 'ወደ', 'በኩል', 'ወቅት', 'ከዚህበፊት', 'በኋላ', 'ከላይ', 'ከታች', 'ከ', 'ወደላይ', 'ታች', 'ውሥጥ', 'ውጭ', 'በላይ',\n",
    " 'እንደገና', 'ተጨማሪ', 'ከዚያ', 'አንድጊዜ', 'እዚህ', 'እዚያ', 'መቼ', 'የት', 'ለምን', 'እንዴት', 'ሁሉም', 'ማንኛውም', 'ሁለቱም', 'እያንዳንዳቸው', 'ጥቂቶች', 'በጣም', 'ሌላ', 'አንዳንድ',\n",
    " 'እንደዚህ', 'ብቻ', 'የራሡ', 'ተመሣሣይ', 'ሥለዚህ', 'ይልቅ', 'እንዲሁ', 'ት', 'ይችላል', 'ይገባል', 'ይገባኛል', 'አሁን', 'መ', 'ም', 'ኦ', 'ዳግም',\n",
    " 'መሆን', 'ሁለ', 'ሁለም', 'ህዝብ', 'ሀሙሥ', 'ለመሆኑ', 'ለምንድን', 'ሌሎች', 'መጽሀፍ', 'ማክሠኞ', 'ምን', 'ሠኞ', 'ሠው', 'ሢሆን', 'ሥንት', 'ረቡእ',\n",
    " 'ቅዳሜ', 'በዚህ', 'ብላ', 'ነገር', 'አለ', 'አርብ', 'አንተ', 'አንዳንድ', 'ኢትዮጵያ', 'እሁድ', 'እናንተ', 'እንኳን', 'እግር', 'ከመሆን', 'ወይንም', 'ዋና', 'ዘንድ', 'የሚከተለው', 'ያኔ', 'ይኼው', 'ገጽ', 'እነርሡ',\n",
    " 'ን', 'ና', 'ዎች', 'ይጠበቃል', 'ብለዋል', 'ሆ', 'ሁሉ', 'አንቀጽ', 'እንደሆነ', 'በማይበልጥ', 'መሠረት', 'ሁኔታ', 'ይሆናል', 'ሆኖ', 'ከአንድ', 'በማናቸውም',\n",
    " 'ወር', 'ከአምሥት', 'በሆነ', 'ከዚህ', 'የሆነ', 'ሀያ', 'ሆነ', 'በኊላ', 'በአንድ', 'የሆኑ', 'ከአሥራ', 'የሆነውን', 'መሆኑ', 'ሌላውን', 'ከሠባት', 'ለሌላ',\n",
    " 'አለበት', 'ሢል', 'ይሆናሉ', 'በሙሉ', 'አሥራ', 'ቢሆንም', 'አንዱ', 'የሌላውን', 'ከሁለት', 'የሆኑትን', 'በሆኑ', 'ጀምሮ', 'በመሆን', 'ባለ', 'ይህንን', 'እንዲቆይ', 'ሌላው', 'የሚሆነው', 'በአንዱ', 'ሢባል', 'ሣለ', 'የሆነው', 'መሆናቸው', 'በዋና', 'በማቀድ', 'ጊዜና', 'ለዚህ', 'ሦሥተኛ', 'የነገሩ', 'ሥድሥት', 'በሆነው', 'ይሁን', 'ከዚሁ', 'በእነዚህ', 'ከማናቸውም', 'ከነበረው',\n",
    " 'በአንዳንድ', 'በእያንዳንዱ', 'ጊዜም', 'አሥከ', 'የሌሎች', 'የሚሆኑት', 'ከሆነው', 'የነበረውን', 'ያሉ', 'ከሌሎች', 'አንዲት', 'ለሌሎች', 'ለሆነው', 'ሠኣት', 'ብሎ', 'ከሠላሣ',\n",
    " 'የሚሆኑ', 'ላይም', 'የሆናል', 'ከነዚህ', 'ያህል', 'ከሆነና', 'ለሆኑት', 'እነዚሁ', 'እንደሆኑ', 'ሥለማናቸውም', 'ሥለዚሁ', 'ከአንዳንድ',\n",
    " 'በእነዚሁ', 'በአምሥት', 'የሆኑበታል', 'ለነዚህ', 'ለማንኛውም', 'አንደኛ', 'ይኸኛው', 'ከርሡ', 'መሆኑን', 'ለዚያው', 'ለዚሁ', 'ለእነርሡም', 'እዚሁ', 'ሀ', 'ረ', 'ሸ', 'አምሥት',\n",
    " 'ከሦሥት', 'በተለይም', 'በሌላ', 'ሺህ', 'ማናቸውንም', 'ከአሥር', 'የማይበልጥ', 'እንዲሁም', 'ይህን', 'የዚህ', 'ማናቸውም', 'ከሥድሥት', 'መቶ', 'ያለ', 'አንድን',\n",
    " 'ያላቸውን', 'ሊሆን', 'ሦሥት', 'ካልሆነ', 'ቢያንሥ', 'ቢሆን', 'እነዚህን', 'አንዱን', 'ሁለት', 'ወይዘሮ', 'ተብሎ', 'ሣይሆን', 'እንደሆነና', 'ከብር', 'ሆኖም', 'የነበሩ',\n",
    " 'የሌላ', 'ያላቸው', 'ይህንኑ', 'ሆነው', 'በሥተቀር', 'ሥም', 'እንደገና', 'የማያንሥ', 'እጅግ', 'እንዲሆን', 'እንኳ', 'ከሀያ', 'ከሀምሣ', 'ይኸው', 'ለአንድ', 'የሚችለውን',\n",
    " 'በሚገባ', 'ይህም', 'እንዲሆኑ', 'ከሌላ', 'ለሆነ', 'በሌሎች', 'አንደሆነ', 'እንዲህ', 'በነዚሁ', 'በእንደዚህ', 'ሥምንት', 'ሢሆንና', 'ምንጊዜም', 'ለማናቸውም', 'የአንድ', 'እነዚህኑ', 'ሢሆኑ', 'በሁለቱም',\n",
    " 'እንደነዚህ', 'የሆኑት', 'የማናቸውም', 'ይህንንም', 'የአንድን', 'በሙሉም', 'በነዚህ', 'የዚሁ', 'ለእያንዳንዱ', 'ሥለሆነ', 'መሆናቸውን', 'ማንኛውንም', 'ሁለቱ', 'እንጂ',\n",
    " 'ከሥምንት', 'ሁለቱንም', 'በሁለት', 'በእሥር', 'በሚል', 'ቁጥር', 'ባሉ', 'ከመቶ', 'እነዚህም', 'ሢኖር', 'ሠላሣ', 'ለሆኑ', 'ሠባት', 'እነደሆነ', 'ይህችው', 'ከእነዚህ',\n",
    " 'ከእነዚሁ', 'የአንቀጹ', 'ወይ', 'የሆነችን']"
   ]
  },
  {
   "cell_type": "code",
   "execution_count": 6,
   "id": "a868593d",
   "metadata": {},
   "outputs": [],
   "source": [
    "def stopWordRemoval(tokens):\n",
    "    token_new=[]\n",
    "    for x in tokens:\n",
    "        if x not in stop_words:\n",
    "            token_new.append(x)\n",
    "    return token_new"
   ]
  },
  {
   "cell_type": "code",
   "execution_count": 7,
   "id": "63eaa194",
   "metadata": {},
   "outputs": [],
   "source": [
    "# create N-grams\n",
    "def make_n_grams(texts):\n",
    "    bigram = gensim.models.Phrases(texts, min_count=3, threshold=100)  # higher threshold fewer phrases.\n",
    "    bigram_mod = gensim.models.phrases.Phraser(bigram)\n",
    "    trigram = gensim.models.Phrases(bigram[texts], threshold=100)\n",
    "    trigram_mod = gensim.models.phrases.Phraser(trigram)\n",
    "    bigrams_text = [bigram_mod[doc] for doc in texts]\n",
    "    trigrams_text =  [trigram_mod[bigram_mod[doc]] for doc in bigrams_text]\n",
    "    return trigrams_text"
   ]
  },
  {
   "cell_type": "code",
   "execution_count": 8,
   "id": "359164e5",
   "metadata": {},
   "outputs": [],
   "source": [
    "processed_docs=[]\n",
    "for item in new_list:\n",
    "    processed_docs.append(stopWordRemoval(item))\n",
    "#processed_docs"
   ]
  },
  {
   "cell_type": "code",
   "execution_count": 9,
   "id": "7db06026",
   "metadata": {},
   "outputs": [],
   "source": [
    "processed_docs=make_n_grams(processed_docs)"
   ]
  },
  {
   "cell_type": "markdown",
   "id": "ac472196",
   "metadata": {},
   "source": [
    "import hm\n",
    "listOfNouns=[]\n",
    "for x in processed_docs:\n",
    "    for l in x:\n",
    "        y=hm.anal('amh',l,um=True)\n",
    "        try:\n",
    "            if y[1]['POS']=='n':\n",
    "                listOfNouns.append(l)\n",
    "        except:\n",
    "            if y==[]:\n",
    "                print()\n",
    "            elif y[0]['POS']=='n':\n",
    "                listOfNouns.append(l)"
   ]
  },
  {
   "cell_type": "markdown",
   "id": "f301fc80",
   "metadata": {},
   "source": [
    "listOfNouns"
   ]
  },
  {
   "cell_type": "markdown",
   "id": "03fa7c24",
   "metadata": {},
   "source": [
    "pip install git+https://github.com/rwalk/gsdmm.git"
   ]
  },
  {
   "cell_type": "code",
   "execution_count": 10,
   "id": "56f18c44",
   "metadata": {},
   "outputs": [
    {
     "name": "stdout",
     "output_type": "stream",
     "text": [
      "Topic: 0 \n",
      "Words: 0.559*\"የኢትዮጵያ\" + 0.344*\"ብዙ\" + 0.020*\"እኮ\" + 0.017*\"መልካም\" + 0.016*\"አይነት\" + 0.009*\"ነዉ\" + 0.008*\"መንግሥት\" + 0.007*\"እንዴ\" + 0.005*\"ግን\" + 0.005*\"እውነት\"\n",
      "Topic: 1 \n",
      "Words: 0.640*\"ግን\" + 0.180*\"መልካም\" + 0.062*\"ማለት\" + 0.057*\"ብዙ\" + 0.018*\"እንዴ\" + 0.014*\"የኢትዮጵያ\" + 0.010*\"አይነት\" + 0.009*\"እውነት\" + 0.003*\"እኮ\" + 0.002*\"መንግሥት\"\n",
      "Topic: 2 \n",
      "Words: 0.572*\"እኮ\" + 0.303*\"ማለት\" + 0.061*\"እንዴ\" + 0.011*\"የኢትዮጵያ\" + 0.009*\"መንግሥት\" + 0.009*\"ነዉ\" + 0.008*\"አይነት\" + 0.008*\"መልካም\" + 0.005*\"ግን\" + 0.005*\"እውነት\"\n",
      "Topic: 3 \n",
      "Words: 0.434*\"እውነት\" + 0.393*\"ዛሬ\" + 0.056*\"አይነት\" + 0.038*\"ብዙ\" + 0.028*\"ግን\" + 0.017*\"የኢትዮጵያ\" + 0.007*\"ነዉ\" + 0.007*\"እኮ\" + 0.006*\"መንግሥት\" + 0.004*\"መልካም\"\n",
      "Topic: 4 \n",
      "Words: 0.408*\"ነዉ\" + 0.378*\"እንዴ\" + 0.152*\"ግን\" + 0.017*\"ዛሬ\" + 0.011*\"መንግሥት\" + 0.007*\"ብዙ\" + 0.007*\"አይነት\" + 0.004*\"እኮ\" + 0.004*\"የኢትዮጵያ\" + 0.004*\"መልካም\"\n",
      "Topic: 5 \n",
      "Words: 0.484*\"መንግሥት\" + 0.398*\"አይነት\" + 0.041*\"ማለት\" + 0.017*\"እንዴ\" + 0.015*\"እውነት\" + 0.009*\"ግን\" + 0.009*\"የኢትዮጵያ\" + 0.005*\"እኮ\" + 0.005*\"መልካም\" + 0.005*\"ነዉ\"\n"
     ]
    }
   ],
   "source": [
    "# importing libraries\n",
    "import pandas as pd\n",
    "import numpy as np\n",
    "import gensim\n",
    "from gensim import corpora, models\n",
    "\n",
    "# cast tweets to numpy array\n",
    "docs = processed_docs\n",
    "\n",
    "# create dictionary of all words in all documents\n",
    "dictionary = gensim.corpora.Dictionary(docs)\n",
    "\n",
    "# filter extreme cases out of dictionary\n",
    "dictionary.filter_extremes(no_below=15, no_above=0.5, keep_n=100000)\n",
    "\n",
    "# create BOW dictionary\n",
    "bow_corpus = [dictionary.doc2bow(doc) for doc in docs]\n",
    "\n",
    "# create LDA model using preferred hyperparameters\n",
    "lda_model = gensim.models.LdaMulticore(bow_corpus, \n",
    "                                         num_topics=6, \n",
    "                                         id2word=dictionary, \n",
    "                                         passes=4, \n",
    "                                         workers=2,\n",
    "                                         random_state=21)\n",
    "\n",
    "# Save LDA model to disk\n",
    "path_to_model = \"C:\\\\Users\\\\Kois\\\\Desktop\\\\thesis\\\\dataset\\\\tweets_long\\\\model\\\\GSDMM.pkl\"\n",
    "lda_model.save(path_to_model)\n",
    "\n",
    "# for each topic, print words occuring in that topic\n",
    "for idx, topic in lda_model.print_topics(-1):\n",
    "    print('Topic: {} \\nWords: {}'.format(idx, topic))"
   ]
  },
  {
   "cell_type": "code",
   "execution_count": 11,
   "id": "999f686b",
   "metadata": {},
   "outputs": [
    {
     "name": "stdout",
     "output_type": "stream",
     "text": [
      "In stage 0: transferred 530 clusters with 15 clusters populated\n",
      "In stage 1: transferred 384 clusters with 15 clusters populated\n",
      "In stage 2: transferred 350 clusters with 15 clusters populated\n",
      "In stage 3: transferred 318 clusters with 15 clusters populated\n",
      "In stage 4: transferred 314 clusters with 15 clusters populated\n",
      "In stage 5: transferred 310 clusters with 15 clusters populated\n",
      "In stage 6: transferred 295 clusters with 15 clusters populated\n",
      "In stage 7: transferred 296 clusters with 15 clusters populated\n",
      "In stage 8: transferred 304 clusters with 15 clusters populated\n",
      "In stage 9: transferred 314 clusters with 15 clusters populated\n",
      "In stage 10: transferred 311 clusters with 15 clusters populated\n",
      "In stage 11: transferred 314 clusters with 15 clusters populated\n",
      "In stage 12: transferred 294 clusters with 15 clusters populated\n",
      "In stage 13: transferred 291 clusters with 15 clusters populated\n",
      "In stage 14: transferred 299 clusters with 15 clusters populated\n"
     ]
    }
   ],
   "source": [
    "# importing libraries\n",
    "import pandas as pd\n",
    "import numpy as np\n",
    "import gensim\n",
    "from gsdmm import MovieGroupProcess\n",
    "\n",
    "# cast tweets to numpy array\n",
    "docs = processed_docs\n",
    "\n",
    "# create dictionary of all words in all documents\n",
    "dictionary = gensim.corpora.Dictionary(docs)\n",
    "\n",
    "# filter extreme cases out of dictionary\n",
    "dictionary.filter_extremes(no_below=15, no_above=0.5, keep_n=100000)\n",
    "\n",
    "# create variable containing length of dictionary/vocab\n",
    "vocab_length = len(dictionary)\n",
    "\n",
    "# create BOW dictionary\n",
    "bow_corpus = [dictionary.doc2bow(doc) for doc in docs]\n",
    "\n",
    "# initialize GSDMM\n",
    "gsdmm = MovieGroupProcess(K=15, alpha=0.1, beta=0.3, n_iters=15)\n",
    "\n",
    "# fit GSDMM model\n",
    "y = gsdmm.fit(docs, vocab_length)"
   ]
  },
  {
   "cell_type": "code",
   "execution_count": 12,
   "id": "07efade4",
   "metadata": {},
   "outputs": [
    {
     "name": "stdout",
     "output_type": "stream",
     "text": [
      "Number of documents per topic : [43 45 45 42 37 40 39 42 44 49 52 39 40 46 40]\n",
      "Most important clusters (by number of docs inside): [10  9 13  2  1  8  0  7  3 14 12  5 11  6  4]\n",
      "\n",
      "Cluster 10 : [('መልካም', 11), ('ግን', 10), ('በአል', 9), ('ተሥፋ', 9), ('ነን', 6), ('እውነት', 5), ('የገና', 5), ('እናት', 4), ('አንተን', 3), ('ለመላው', 3), ('አብይ', 3), ('ሥራ', 3), ('በርታ', 3), ('ለኢትዮጵያ', 3), ('አህመድ', 3), ('የኛ', 3), ('በሠላም', 3), ('ብዙ', 3), ('ለሀገር', 3), ('ትክክለኛ', 3)]\n",
      "\n",
      "Cluster 9 : [('ችግር', 8), ('ደሥ', 7), ('ጥሩ', 6), ('ሠዎች', 5), ('አይጠበቅም', 4), ('አይነቱ', 3), ('አሜን', 3), ('ይለኛል', 3), ('ድንቅ', 3), ('የሚል', 3), ('አመታት', 3), ('በፊት', 3), ('ሠላማዊ', 3), ('ይጠብቀን', 2), ('ከዝብ', 2), ('ማር', 2), ('እንደሚባለው', 2), ('አሁንም', 2), ('ከእንደዚህ', 2), ('ላህጫም', 2)]\n",
      "\n",
      "Cluster 13 : [('ግን', 12), ('አይደለም', 11), ('ብዙ', 10), ('ጊዜ', 9), ('ቋንቋ', 8), ('ነዉ', 6), ('አሪፍ', 6), ('ልክ', 5), ('ባህል', 5), ('ግሪኮች', 4), ('ደደብ', 4), ('ማነው', 4), ('ሀገር', 3), ('መጻፍ', 3), ('እንዴ', 3), ('ሃሣብ', 3), ('ሁሌም', 3), ('ያሉት', 3), ('ይሄን', 3), ('ያሥፈልጋል', 3)]\n",
      "\n",
      "Cluster 2 : [('ቤት', 7), ('እንዴ', 7), ('ሊግ', 6), ('ከተማ', 5), ('ምንም', 5), ('ፍርድ', 4), ('አዲሥ_አበባ', 4), ('ጨዋታ', 4), ('አይነት', 4), ('የኢትዮጵያ', 3), ('መከላከያ', 3), ('አሠልጣኝ', 3), ('ዞን', 3), ('በቄሮ', 3), ('ቡና', 3), ('ቀጥታ', 3), ('የውጤት', 3), ('መግለጫ', 3), ('ሀሣብ', 3), ('አቶ', 3)]\n",
      "\n",
      "Cluster 1 : [('ዩኒቨርሥቲ', 12), ('ተማሪዎች', 11), ('የአማራ', 9), ('ጉዳይ', 8), ('ዛሬ', 7), ('እናመሠግናለን', 5), ('ግን', 5), ('ልጅ', 4), ('ሠዎች', 4), ('የታገቱ', 3), ('ተማሪ', 3), ('ዩኒቨርሢቲ', 3), ('ትምህርት', 3), ('ቤት', 3), ('ማየት', 3), ('ከፍተኛ', 3), ('የውጭ', 3), ('አካባቢ', 3), ('ውይ', 3), ('ሤት', 2)]\n",
      "\n",
      "Cluster 8 : [('ግን', 13), ('ብልጽግና', 10), ('ፓርቲ', 9), ('ማለት', 8), ('ህወሀት', 7), ('መግለጫ', 4), ('መንግሥት', 4), ('ታሪክ', 4), ('ሁሉንም', 4), ('አሥቸኳይ', 3), ('አዲሥ', 3), ('የህወሀት', 3), ('ችግር', 3), ('እያሉ', 3), ('ይመሥለኛል', 3), ('ኢዜማ', 3), ('እንዴ', 3), ('ወዴት', 3), ('ነን', 3), ('ጉባኤ', 2)]\n",
      "\n",
      "Cluster 0 : [('ምክር_ቤት', 7), ('ክልል', 7), ('ዞን', 6), ('ህይወት', 5), ('እውነት', 5), ('አመት', 5), ('ግልጽ', 4), ('ግን', 4), ('ደም', 4), ('እሥኪ', 3), ('በአል', 3), ('ወረዳ', 3), ('በሀላባ', 3), ('ዘመን', 3), ('ሤራ', 3), ('አደራ', 2), ('ፖለቲካ', 2), ('አበባ', 2), ('ለመቀየር', 2), ('የህዝብ', 2)]\n",
      "\n",
      "Cluster 7 : [('ይቅርታ', 5), ('ክልሉ', 4), ('ተግባሩን', 4), ('ህግ', 4), ('ከሞጣው', 3), ('የሽብር', 3), ('ተግባር', 3), ('በሀላ', 3), ('የሄደባቸው', 3), ('እርሞጃዎች', 3), ('በይፋ', 3), ('ገንዘብ', 3), ('መልእክት', 3), ('መንግሥትን', 3), ('እናመሠግናለን', 3), ('ድንግል', 3), ('ወንድ', 3), ('ኢየሩሣሌም', 3), ('ጥፋቱን', 2), ('ፈጽሞ', 2)]\n",
      "\n",
      "Cluster 3 : [('ወለጋ', 12), ('ልዩ', 7), ('ሠላም', 7), ('አብይ', 5), ('አማርኛ', 5), ('ሥር', 5), ('እውነት', 5), ('ልጅ', 5), ('ፖሊሥ', 4), ('ለማየት', 4), ('አገር', 4), ('አማራ', 4), ('የኦሮሞ', 4), ('ሠራዊት', 3), ('የኦሮሚያ', 3), ('ኦሮሞ', 3), ('ጥቅም', 3), ('መቐለ', 3), ('ጠጥታችሁ', 2), ('አታሽከርክሩ\"', 2)]\n",
      "\n",
      "Cluster 14 : [('ብር', 11), ('ልብ', 7), ('እኮ', 4), ('እውነተኛ', 4), ('ግን', 4), ('ደረጃ', 3), ('ይሄን', 3), ('የተሻለ', 3), ('ድርጅት', 3), ('ዋጋ', 3), ('አይነት', 3), ('ጤና', 3), ('ማግኘት', 3), ('ብዬ', 3), ('ፖሥት', 3), ('በሚልዮን', 2), ('የሚቆጠሩ', 2), ('ኢራናውያን', 2), ('በአሜሪካ', 2), ('ከትናንት', 2)]\n",
      "\n",
      "Cluster 12 : [('እኮ', 7), ('ሀገር', 7), ('ብለው', 5), ('እንዴ', 4), ('የለም', 4), ('አሁንም', 4), ('ሌባ', 4), ('ቤተሠብ', 4), ('ወግ', 3), ('ለምርጫ', 3), ('ጥሩ', 3), ('ይሆን', 3), ('መጀመሪያ', 3), ('የታደለ', 3), ('አዲሥ', 3), ('ወያኔ', 3), ('የኛው', 3), ('ፖለቲካ', 3), ('ወጣት', 2), ('ድረሥ', 2)]\n",
      "\n",
      "Cluster 5 : [('\"', 16), ('ቀን', 10), ('እነ', 7), ('ደግሞ', 6), ('ዘመን', 5), ('ጊዜ', 5), ('እግዚአብሄር', 5), ('ልጆች', 4), ('እኮ', 4), ('መሪ', 3), ('ሞት', 3), ('ዛሬ', 3), ('የሞቱት', 3), ('በደሥታ', 3), ('ኢትዮጵያውያን', 3), ('ኛ', 3), ('ነዉ', 3), ('ህብረተሠብ', 3), ('እሥከመቼ', 3), ('እዛ', 2)]\n",
      "\n",
      "Cluster 11 : [('ግን', 7), ('ዝግጅት', 5), ('ዜና', 4), ('ኮፒ', 4), ('አሥመልክቶ', 4), ('ቤት', 4), ('አይደል', 4), ('አብይ', 3), ('ዘይቱና', 3), ('የኢትዮጵያ', 3), ('ኦሮሞ', 3), ('የለውም', 3), ('የሁሉም', 3), ('እየተደረገ', 3), ('የቱ', 3), ('አጀንዳ', 3), ('ለኢቢሢ', 2), ('የኔትዩብ', 2), ('እባካችሁ', 2), ('ሥታደርጉ', 2)]\n",
      "\n",
      "Cluster 6 : [('አቶ_ንጉሡ', 4), ('እንዳለ', 4), ('አይነት', 4), ('ጥላሁን', 3), ('ከፍተኛ', 3), ('ታጋቾች', 3), ('ልጆች', 3), ('ሙሥሊሞች', 3), ('ሥምምነት', 3), ('ቃል', 3), ('እንዴ', 3), ('ግልጽ', 3), ('አይደለም', 3), ('ሆይ', 3), ('የታገቱ', 2), ('አለባቸው', 2), ('ብዬ', 2), ('አፋሮች', 2), ('ወሎም', 2), ('በምን', 2)]\n",
      "\n",
      "Cluster 4 : [('ምርጫ', 12), ('የኢትዮጵያ', 8), ('ውይይት', 6), ('ወረዳ', 5), ('ሚኒሥትር', 4), ('በፊት', 3), ('ግን', 3), ('ግድብ', 3), ('መጀመር', 3), ('አገር', 3), ('ጥር', 3), ('ፓርቲዎች', 3), ('እሥቲ', 3), ('ጥያቄ', 3), ('እኮ', 3), ('ደረጃ', 3), ('ዛሬ', 3), ('ጠቅላይ', 3), ('የሚያደርጉ', 2), ('የምረጡኝ', 2)]\n"
     ]
    }
   ],
   "source": [
    "# print number of documents per topic\n",
    "doc_count = np.array(gsdmm.cluster_doc_count)\n",
    "print('Number of documents per topic :', doc_count)\n",
    "\n",
    "# Topics sorted by the number of document they are allocated to\n",
    "top_index = doc_count.argsort()[-15:][::-1]\n",
    "print('Most important clusters (by number of docs inside):', top_index)\n",
    "\n",
    "# define function to get top words per topic\n",
    "def top_words(cluster_word_distribution, top_cluster, values):\n",
    "    for cluster in top_cluster:\n",
    "        sort_dicts = sorted(cluster_word_distribution[cluster].items(), key=lambda k: k[1], reverse=True)[:values]\n",
    "        print(\"\\nCluster %s : %s\"%(cluster, sort_dicts))\n",
    "\n",
    "# get top words in topics\n",
    "top_words(gsdmm.cluster_word_distribution, top_index, 20)"
   ]
  },
  {
   "cell_type": "markdown",
   "id": "d4e46088",
   "metadata": {},
   "source": [
    "conda install -c conda-forge wordcloud"
   ]
  },
  {
   "cell_type": "code",
   "execution_count": 13,
   "id": "cd121659",
   "metadata": {},
   "outputs": [
    {
     "name": "stdout",
     "output_type": "stream",
     "text": [
      "0.33350269580387465\n"
     ]
    }
   ],
   "source": [
    "# import library from gensim  \n",
    "from gensim.models import CoherenceModel\n",
    "\n",
    "# define function to get words in topics\n",
    "def get_topics_lists(model, top_clusters, n_words):\n",
    "    '''\n",
    "    Gets lists of words in topics as a list of lists.\n",
    "    \n",
    "    model: gsdmm instance\n",
    "    top_clusters:  numpy array containing indices of top_clusters\n",
    "    n_words: top n number of words to include\n",
    "    \n",
    "    '''\n",
    "    # create empty list to contain topics\n",
    "    topics = []\n",
    "    \n",
    "    # iterate over top n clusters\n",
    "    for cluster in top_clusters:\n",
    "        #create sorted dictionary of word distributions\n",
    "        sorted_dict = sorted(model.cluster_word_distribution[cluster].items(), key=lambda k: k[1], reverse=True)[:n_words]\n",
    "         \n",
    "        #create empty list to contain words\n",
    "        topic = []\n",
    "        \n",
    "        #iterate over top n words in topic\n",
    "        for k,v in sorted_dict:\n",
    "            #append words to topic list\n",
    "            topic.append(k)\n",
    "            \n",
    "        #append topics to topics list    \n",
    "        topics.append(topic)\n",
    "    \n",
    "    return topics\n",
    "\n",
    "# get topics to feed to coherence model\n",
    "topics = get_topics_lists(gsdmm, top_index, 350) \n",
    "\n",
    "# evaluate model using Topic Coherence score\n",
    "cm_gsdmm = CoherenceModel(topics=topics, \n",
    "                          dictionary=dictionary, \n",
    "                          corpus=bow_corpus, \n",
    "                          texts=docs, \n",
    "                          coherence='c_v')\n",
    "\n",
    "# get coherence value\n",
    "coherence_gsdmm = cm_gsdmm.get_coherence()  \n",
    "\n",
    "print(coherence_gsdmm)"
   ]
  },
  {
   "cell_type": "code",
   "execution_count": 14,
   "id": "fdf883bd",
   "metadata": {},
   "outputs": [
    {
     "name": "stdout",
     "output_type": "stream",
     "text": [
      "0.5114391745251883\n"
     ]
    }
   ],
   "source": [
    "# import library from gensim  \n",
    "from gensim.models import CoherenceModel\n",
    "\n",
    "# instantiate topic coherence model\n",
    "cm = CoherenceModel(model=lda_model, corpus=bow_corpus, texts=docs, coherence='c_v')\n",
    "\n",
    "# get topic coherence score\n",
    "coherence_lda = cm.get_coherence() \n",
    "print(coherence_lda)"
   ]
  },
  {
   "cell_type": "code",
   "execution_count": null,
   "id": "fb05cd21",
   "metadata": {},
   "outputs": [],
   "source": []
  }
 ],
 "metadata": {
  "kernelspec": {
   "display_name": "Python 3 (ipykernel)",
   "language": "python",
   "name": "python3"
  },
  "language_info": {
   "codemirror_mode": {
    "name": "ipython",
    "version": 3
   },
   "file_extension": ".py",
   "mimetype": "text/x-python",
   "name": "python",
   "nbconvert_exporter": "python",
   "pygments_lexer": "ipython3",
   "version": "3.9.7"
  }
 },
 "nbformat": 4,
 "nbformat_minor": 5
}
