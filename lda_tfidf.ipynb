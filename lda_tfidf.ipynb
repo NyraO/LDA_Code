{
 "cells": [
  {
   "cell_type": "code",
   "execution_count": 4,
   "id": "9ac3cd37",
   "metadata": {},
   "outputs": [
    {
     "name": "stdout",
     "output_type": "stream",
     "text": [
      "\n",
      "Coherence Score:  0.20869854501576338\n"
     ]
    }
   ],
   "source": [
    "import gensim\n",
    "import pandas as pd\n",
    "from gensim import corpora, models\n",
    "import matplotlib.pyplot as plt\n",
    "from gensim.models import CoherenceModel\n",
    "\n",
    "df=pd.read_csv('processedDEV.csv')\n",
    "df=df.drop(['Unnamed: 0'], axis = 1)\n",
    "my_list=df.to_numpy().tolist()\n",
    "\n",
    "#my_doc=pd.read_csv('C:/Users/Kois/unLemmatizedCorpus.csv') #unLemmatized tokens\n",
    "my_root=pd.read_csv('C:/Users/Kois/lemmatizedCorpus.csv') #Lemmatized tokens\n",
    "my_root=my_root.drop(['Unnamed: 0.1'], axis = 1)\n",
    "my_root=my_root.drop(['Unnamed: 0'], axis = 1)\n",
    "my_root=my_root.to_numpy().tolist()\n",
    "\n",
    "new_list=[]\n",
    "temp_list=[]\n",
    "for x in my_root:\n",
    "    for item in x:\n",
    "        if str(item) != 'nan':\n",
    "            temp_list.append(item)\n",
    "    new_list.append(temp_list)\n",
    "    temp_list=[]\n",
    "\n",
    "stop_words=['እኔ', 'የእኔ', 'እኔራሤ', 'እኛ', 'የእኛ', 'እኛራሣችን', 'አንቺ', 'ነህ', 'አላችሁ', 'እርሥዎ', 'ትፈልጋለህ', 'ያንተ', 'ራሥህን', 'እራሣችሁ', 'እሡ', 'የእሡ',\n",
    " 'ራሡ', 'እሷ', 'እሷናት', 'የእሷ', 'እራሷ', 'ነው', 'እነሡ', 'እነሡን', 'የእነሡ', 'ራሣቸው', 'ምንድን', 'የትኛው', 'ማን', 'ይህ', 'የሚልነው', 'ያ', 'እነዚህ', 'እነዚያ', 'ነኝ', 'ናቸው', 'ነበር', 'ነበሩ', 'ሁን', 'ቆይቷል', 'መሆን',\n",
    " 'አላቸው', 'አለው', 'ነበረው', 'ያለው', 'መሥራት', 'ያደርጋል', 'አደረገ', 'ማድረግ', 'ሀ', 'አንድ', 'የ', 'እና', 'ከሆነ', 'ወይም', 'ምክንያቱም',\n",
    " 'እንደ', 'እሥከ', 'እያለ', 'በ', 'ለ', 'ጋር', 'ሥለ', 'ላይ', 'መካከል', 'ወደ', 'በኩል', 'ወቅት', 'ከዚህበፊት', 'በኋላ', 'ከላይ', 'ከታች', 'ከ', 'ወደላይ', 'ታች', 'ውሥጥ', 'ውጭ', 'በላይ',\n",
    " 'እንደገና', 'ተጨማሪ', 'ከዚያ', 'አንድጊዜ', 'እዚህ', 'እዚያ', 'መቼ', 'የት', 'ለምን', 'እንዴት', 'ሁሉም', 'ማንኛውም', 'ሁለቱም', 'እያንዳንዳቸው', 'ጥቂቶች', 'በጣም', 'ሌላ', 'አንዳንድ',\n",
    " 'እንደዚህ', 'ብቻ', 'የራሡ', 'ተመሣሣይ', 'ሥለዚህ', 'ይልቅ', 'እንዲሁ', 'ት', 'ይችላል', 'ይገባል', 'ይገባኛል', 'አሁን', 'መ', 'ም', 'ኦ', 'ዳግም',\n",
    " 'መሆን', 'ሁለ', 'ሁለም', 'ህዝብ', 'ሀሙሥ', 'ለመሆኑ', 'ለምንድን', 'ሌሎች', 'መጽሀፍ', 'ማክሠኞ', 'ምን', 'ሠኞ', 'ሠው', 'ሢሆን', 'ሥንት', 'ረቡእ',\n",
    " 'ቅዳሜ', 'በዚህ', 'ብላ', 'ነገር', 'አለ', 'አርብ', 'አንተ', 'አንዳንድ', 'ኢትዮጵያ', 'እሁድ', 'እናንተ', 'እንኳን', 'እግር', 'ከመሆን', 'ወይንም', 'ዋና', 'ዘንድ', 'የሚከተለው', 'ያኔ', 'ይኼው', 'ገጽ', 'እነርሡ',\n",
    " 'ን', 'ና', 'ዎች', 'ይጠበቃል', 'ብለዋል', 'ሆ', 'ሁሉ', 'አንቀጽ', 'እንደሆነ', 'በማይበልጥ', 'መሠረት', 'ሁኔታ', 'ይሆናል', 'ሆኖ', 'ከአንድ', 'በማናቸውም',\n",
    " 'ወር', 'ከአምሥት', 'በሆነ', 'ከዚህ', 'የሆነ', 'ሀያ', 'ሆነ', 'በኊላ', 'በአንድ', 'የሆኑ', 'ከአሥራ', 'የሆነውን', 'መሆኑ', 'ሌላውን', 'ከሠባት', 'ለሌላ',\n",
    " 'አለበት', 'ሢል', 'ይሆናሉ', 'በሙሉ', 'አሥራ', 'ቢሆንም', 'አንዱ', 'የሌላውን', 'ከሁለት', 'የሆኑትን', 'በሆኑ', 'ጀምሮ', 'በመሆን', 'ባለ', 'ይህንን', 'እንዲቆይ', 'ሌላው', 'የሚሆነው', 'በአንዱ', 'ሢባል', 'ሣለ', 'የሆነው', 'መሆናቸው', 'በዋና', 'በማቀድ', 'ጊዜና', 'ለዚህ', 'ሦሥተኛ', 'የነገሩ', 'ሥድሥት', 'በሆነው', 'ይሁን', 'ከዚሁ', 'በእነዚህ', 'ከማናቸውም', 'ከነበረው',\n",
    " 'በአንዳንድ', 'በእያንዳንዱ', 'ጊዜም', 'አሥከ', 'የሌሎች', 'የሚሆኑት', 'ከሆነው', 'የነበረውን', 'ያሉ', 'ከሌሎች', 'አንዲት', 'ለሌሎች', 'ለሆነው', 'ሠኣት', 'ብሎ', 'ከሠላሣ',\n",
    " 'የሚሆኑ', 'ላይም', 'የሆናል', 'ከነዚህ', 'ያህል', 'ከሆነና', 'ለሆኑት', 'እነዚሁ', 'እንደሆኑ', 'ሥለማናቸውም', 'ሥለዚሁ', 'ከአንዳንድ',\n",
    " 'በእነዚሁ', 'በአምሥት', 'የሆኑበታል', 'ለነዚህ', 'ለማንኛውም', 'አንደኛ', 'ይኸኛው', 'ከርሡ', 'መሆኑን', 'ለዚያው', 'ለዚሁ', 'ለእነርሡም', 'እዚሁ', 'ሀ', 'ረ', 'ሸ', 'አምሥት',\n",
    " 'ከሦሥት', 'በተለይም', 'በሌላ', 'ሺህ', 'ማናቸውንም', 'ከአሥር', 'የማይበልጥ', 'እንዲሁም', 'ይህን', 'የዚህ', 'ማናቸውም', 'ከሥድሥት', 'መቶ', 'ያለ', 'አንድን',\n",
    " 'ያላቸውን', 'ሊሆን', 'ሦሥት', 'ካልሆነ', 'ቢያንሥ', 'ቢሆን', 'እነዚህን', 'አንዱን', 'ሁለት', 'ወይዘሮ', 'ተብሎ', 'ሣይሆን', 'እንደሆነና', 'ከብር', 'ሆኖም', 'የነበሩ',\n",
    " 'የሌላ', 'ያላቸው', 'ይህንኑ', 'ሆነው', 'በሥተቀር', 'ሥም', 'እንደገና', 'የማያንሥ', 'እጅግ', 'እንዲሆን', 'እንኳ', 'ከሀያ', 'ከሀምሣ', 'ይኸው', 'ለአንድ', 'የሚችለውን',\n",
    " 'በሚገባ', 'ይህም', 'እንዲሆኑ', 'ከሌላ', 'ለሆነ', 'በሌሎች', 'አንደሆነ', 'እንዲህ', 'በነዚሁ', 'በእንደዚህ', 'ሥምንት', 'ሢሆንና', 'ምንጊዜም', 'ለማናቸውም', 'የአንድ', 'እነዚህኑ', 'ሢሆኑ', 'በሁለቱም',\n",
    " 'እንደነዚህ', 'የሆኑት', 'የማናቸውም', 'ይህንንም', 'የአንድን', 'በሙሉም', 'በነዚህ', 'የዚሁ', 'ለእያንዳንዱ', 'ሥለሆነ', 'መሆናቸውን', 'ማንኛውንም', 'ሁለቱ', 'እንጂ',\n",
    " 'ከሥምንት', 'ሁለቱንም', 'በሁለት', 'በእሥር', 'በሚል', 'ቁጥር', 'ባሉ', 'ከመቶ', 'እነዚህም', 'ሢኖር', 'ሠላሣ', 'ለሆኑ', 'ሠባት', 'እነደሆነ', 'ይህችው', 'ከእነዚህ',\n",
    " 'ከእነዚሁ', 'የአንቀጹ', 'ወይ', 'የሆነችን']\n",
    "\n",
    "def stopWordRemoval(tokens):\n",
    "    token_new=[]\n",
    "    for x in tokens:\n",
    "        if x not in stop_words:\n",
    "            token_new.append(x)\n",
    "    return token_new\n",
    "\n",
    "processed_docs=[]\n",
    "for item in new_list:\n",
    "    processed_docs.append(stopWordRemoval(item))\n",
    "\n",
    "dictionary = gensim.corpora.Dictionary(processed_docs)\n",
    "\n",
    "# create N-grams\n",
    "def make_n_grams(texts):\n",
    "    bigram = gensim.models.Phrases(texts, min_count=3, threshold=100)  # higher threshold fewer phrases.\n",
    "    bigram_mod = gensim.models.phrases.Phraser(bigram)\n",
    "    trigram = gensim.models.Phrases(bigram[texts], threshold=100)\n",
    "    trigram_mod = gensim.models.phrases.Phraser(trigram)\n",
    "    bigrams_text = [bigram_mod[doc] for doc in texts]\n",
    "    trigrams_text =  [trigram_mod[bigram_mod[doc]] for doc in bigrams_text]\n",
    "    return trigrams_text\n",
    "\n",
    "#evaluating the effect of bigrams and trigrams on topic coherence\n",
    "#n_gram=make_n_grams(processed_docs)\n",
    "\n",
    "dictionary.filter_extremes(no_below=0, no_above=0.5, keep_n=100000)\n",
    "\n",
    "#processed_docs=n_gram #evaluating the effect of bigrams and trigrams on topic coherence\n",
    "bow_corpus = [dictionary.doc2bow(doc) for doc in processed_docs]\n",
    "\n",
    "\n",
    "tfidf = models.TfidfModel(bow_corpus)\n",
    "corpus_tfidf = tfidf[bow_corpus]\n",
    "\n",
    "lda_model_tfidf = gensim.models.LdaMulticore(corpus_tfidf, num_topics=10, id2word=dictionary, passes=2, workers=4)\n",
    "\n",
    "#tfidf as feature\n",
    "coherence_model_lda = CoherenceModel(model=lda_model_tfidf, corpus=bow_corpus,texts=processed_docs, coherence='c_v')\n",
    "coherence_lda = coherence_model_lda.get_coherence()\n",
    "print('\\nCoherence Score: ', coherence_lda)\n"
   ]
  },
  {
   "cell_type": "code",
   "execution_count": 2,
   "id": "cad390db",
   "metadata": {},
   "outputs": [],
   "source": [
    "def compute_coherence_values(dictionary, doc_term_matrix, start, stop, step):\n",
    "    \"\"\"\n",
    "    Input   : dictionary : Gensim dictionary\n",
    "              corpus : Gensim corpus\n",
    "              texts : List of input texts\n",
    "              stop : Max num of topics\n",
    "    purpose : Compute c_v coherence for various number of topics\n",
    "    Output  : model_list : List of LSA topic models\n",
    "              coherence_values : Coherence values corresponding to the LDA model with respective number of topics\n",
    "    \"\"\"\n",
    "    coherence_values = []\n",
    "    model_list = []\n",
    "    for num_topics in range(start, stop, step):\n",
    "        # generate LDA model\n",
    "        lda_model_tfidf = gensim.models.LdaMulticore(corpus_tfidf, num_topics, id2word=dictionary, passes=2, workers=4) # train model\n",
    "        model_list.append(lda_model_tfidf)\n",
    "        coherencemodel = CoherenceModel(model=lda_model_tfidf, corpus=bow_corpus,texts=processed_docs, coherence='c_v')\n",
    "        coherence_values.append(coherencemodel.get_coherence())\n",
    "    return coherence_values\n",
    "    #return model_list, coherence_values"
   ]
  },
  {
   "cell_type": "code",
   "execution_count": 3,
   "id": "357f41eb",
   "metadata": {},
   "outputs": [
    {
     "data": {
      "image/png": "[encoded data removed]",
      "text/plain": [
       "<Figure size 432x288 with 1 Axes>"
      ]
     },
     "metadata": {
      "needs_background": "light"
     },
     "output_type": "display_data"
    }
   ],
   "source": [
    "def plot_graph(doc_clean,start, stop, step):\n",
    "    coherence_values = compute_coherence_values(dictionary, bow_corpus, start,stop, step)\n",
    "    # Show graph\n",
    "    x = range(start, stop, step)\n",
    "    plt.plot(x, coherence_values)\n",
    "    plt.xlabel(\"Number of Topics\")\n",
    "    plt.ylabel(\"Coherence score\")\n",
    "    plt.legend((\"coherence_values\"), loc='best')\n",
    "    plt.show()\n",
    "\n",
    "start,stop,step=2,12,1\n",
    "plot_graph(bow_corpus,start,stop,step)"
   ]
  },
  {
   "cell_type": "code",
   "execution_count": 5,
   "id": "34a4df82",
   "metadata": {},
   "outputs": [
    {
     "name": "stdout",
     "output_type": "stream",
     "text": [
      "Topic: 0 Word: 0.003*\"አሜን\" + 0.002*\"መልካም\" + 0.002*\"ድርግ\" + 0.002*\"ገባ\" + 0.002*\"ፈለገ\" + 0.002*\"ደረሰ\" + 0.002*\"አሰበ\" + 0.002*\"አማራ\" + 0.002*\"አወቀ\" + 0.002*\"ሀገር\"\n",
      "Topic: 1 Word: 0.003*\"ሰላም\" + 0.003*\"አየ\" + 0.002*\"ግን\" + 0.002*\"መንግስት\" + 0.002*\"ሀገር\" + 0.002*\"ጥር\" + 0.002*\"ውነት\" + 0.002*\"ሀሳብ\" + 0.002*\"አማራ\" + 0.002*\"አወቀ\"\n",
      "Topic: 2 Word: 0.003*\"አወቀ\" + 0.002*\"ሀገር\" + 0.002*\"ድርግ\" + 0.002*\"ቻለ\" + 0.002*\"ሰጠ\" + 0.002*\"እንዴ\" + 0.002*\"አየ\" + 0.002*\"ሰማ\" + 0.002*\"መንግስት\" + 0.002*\"ኖረ\"\n",
      "Topic: 3 Word: 0.003*\"ግን\" + 0.003*\"አየ\" + 0.003*\"ድርግ\" + 0.002*\"ገባ\" + 0.002*\"ደረሰ\" + 0.002*\"እንዴ\" + 0.002*\"ሰራ\" + 0.002*\"አመት\" + 0.002*\"ሀገር\" + 0.002*\"አወቀ\"\n",
      "Topic: 4 Word: 0.002*\"ኖረ\" + 0.002*\"ግን\" + 0.002*\"ገባ\" + 0.002*\"ሰጠ\" + 0.002*\"ሀገር\" + 0.002*\"ድርግ\" + 0.002*\"ቤት\" + 0.002*\"እኮ\" + 0.002*\"ጊዜ\" + 0.002*\"ደረሰ\"\n",
      "Topic: 5 Word: 0.002*\"ብልጽግና\" + 0.002*\"ፓርቲ\" + 0.002*\"ሰራ\" + 0.002*\"አየ\" + 0.002*\"ደገመ\" + 0.002*\"ቻለ\" + 0.002*\"ድርግ\" + 0.002*\"ግን\" + 0.002*\"ችግር\" + 0.002*\"ኖረ\"\n",
      "Topic: 6 Word: 0.002*\"መሰለ\" + 0.002*\"አወቀ\" + 0.002*\"ድርግ\" + 0.002*\"ገባ\" + 0.002*\"ተገኘ\" + 0.002*\"አመት\" + 0.002*\"ወደደ\" + 0.002*\"አማራ\" + 0.002*\"መሪ\" + 0.002*\"ሰማ\"\n",
      "Topic: 7 Word: 0.002*\"ገባ\" + 0.002*\"አወቀ\" + 0.002*\"አማራ\" + 0.002*\"ድርግ\" + 0.002*\"ግን\" + 0.002*\"ቀረ\" + 0.002*\"እኮ\" + 0.002*\"ምርጫ\" + 0.002*\"ስራ\" + 0.002*\"ሀገር\"\n",
      "Topic: 8 Word: 0.002*\"አወቀ\" + 0.002*\"ክልል\" + 0.002*\"ድርግ\" + 0.002*\"ፈለገ\" + 0.002*\"ዛሬ\" + 0.002*\"መንግስት\" + 0.002*\"ጀመረ\" + 0.002*\"ደረሰ\" + 0.002*\"ሀገር\" + 0.002*\"አማራ\"\n",
      "Topic: 9 Word: 0.002*\"ሰጠ\" + 0.002*\"መልካም\" + 0.002*\"ጀመረ\" + 0.002*\"መሰለ\" + 0.002*\"ድርግ\" + 0.002*\"አል\" + 0.002*\"ግን\" + 0.002*\"ጠበቀ\" + 0.002*\"ጥር\" + 0.002*\"ያዘ\"\n"
     ]
    }
   ],
   "source": [
    "for idx, topic in lda_model_tfidf.print_topics(-1):\n",
    "    print('Topic: {} Word: {}'.format(idx, topic))"
   ]
  },
  {
   "cell_type": "code",
   "execution_count": null,
   "id": "b78826e8",
   "metadata": {},
   "outputs": [],
   "source": []
  }
 ],
 "metadata": {
  "kernelspec": {
   "display_name": "Python 3 (ipykernel)",
   "language": "python",
   "name": "python3"
  },
  "language_info": {
   "codemirror_mode": {
    "name": "ipython",
    "version": 3
   },
   "file_extension": ".py",
   "mimetype": "text/x-python",
   "name": "python",
   "nbconvert_exporter": "python",
   "pygments_lexer": "ipython3",
   "version": "3.9.7"
  }
 },
 "nbformat": 4,
 "nbformat_minor": 5
}
