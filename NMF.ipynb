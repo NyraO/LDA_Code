{
 "cells": [
  {
   "cell_type": "code",
   "execution_count": 1,
   "id": "6c09ff33",
   "metadata": {},
   "outputs": [],
   "source": [
    "# a scikit-learn package to do NMF\n",
    " #Importing Necessary packages\n",
    "import gensim\n",
    "import pandas as pd\n",
    "import numpy as np\n",
    "from sklearn.feature_extraction.text import TfidfVectorizer\n",
    "from sklearn.decomposition import NMF\n",
    "import matplotlib.pyplot as plt"
   ]
  },
  {
   "cell_type": "code",
   "execution_count": 2,
   "id": "0eb9329b",
   "metadata": {},
   "outputs": [],
   "source": [
    "df=pd.read_csv('processedDEV.csv')\n",
    "df=df.drop(['Unnamed: 0'], axis = 1)\n",
    "my_list=df.to_numpy().tolist()\n",
    "#my_list"
   ]
  },
  {
   "cell_type": "code",
   "execution_count": 3,
   "id": "0304c579",
   "metadata": {},
   "outputs": [
    {
     "data": {
      "text/plain": [
       "7050"
      ]
     },
     "execution_count": 3,
     "metadata": {},
     "output_type": "execute_result"
    }
   ],
   "source": [
    "#my_doc=pd.read_csv('C:/Users/Kois/unLemmatizedCorpus.csv') #unLemmatized tokens\n",
    "my_root=pd.read_csv('C:/Users/Kois/lemmatizedCorpus.csv') #Lemmatized tokens\n",
    "my_root=my_root.drop(['Unnamed: 0.1'], axis = 1)\n",
    "my_root=my_root.drop(['Unnamed: 0'], axis = 1)\n",
    "my_root=my_root.to_numpy().tolist()\n",
    "len(my_root)"
   ]
  },
  {
   "cell_type": "code",
   "execution_count": 4,
   "id": "560540ba",
   "metadata": {},
   "outputs": [],
   "source": [
    "#docgen=[]\n",
    "new_list=[]\n",
    "temp_list=[]\n",
    "for x in my_root:\n",
    "    for item in x:\n",
    "        if str(item) != 'nan':\n",
    "            temp_list.append(item)\n",
    "            #docgen.append(item)\n",
    "    new_list.append(temp_list)\n",
    "    temp_list=[]\n",
    "#new_list"
   ]
  },
  {
   "cell_type": "code",
   "execution_count": 5,
   "id": "20bc911d",
   "metadata": {},
   "outputs": [],
   "source": [
    "stop_words=['እኔ', 'የእኔ', 'እኔራሤ', 'እኛ', 'የእኛ', 'እኛራሣችን', 'አንቺ', 'ነህ', 'አላችሁ', 'እርሥዎ', 'ትፈልጋለህ', 'ያንተ', 'ራሥህን', 'እራሣችሁ', 'እሡ', 'የእሡ',\n",
    " 'ራሡ', 'እሷ', 'እሷናት', 'የእሷ', 'እራሷ', 'ነው', 'እነሡ', 'እነሡን', 'የእነሡ', 'ራሣቸው', 'ምንድን', 'የትኛው', 'ማን', 'ይህ', 'የሚልነው', 'ያ', 'እነዚህ', 'እነዚያ', 'ነኝ', 'ናቸው', 'ነበር', 'ነበሩ', 'ሁን', 'ቆይቷል', 'መሆን',\n",
    " 'አላቸው', 'አለው', 'ነበረው', 'ያለው', 'መሥራት', 'ያደርጋል', 'አደረገ', 'ማድረግ', 'ሀ', 'አንድ', 'የ', 'እና', 'ከሆነ', 'ወይም', 'ምክንያቱም',\n",
    " 'እንደ', 'እሥከ', 'እያለ', 'በ', 'ለ', 'ጋር', 'ሥለ', 'ላይ', 'መካከል', 'ወደ', 'በኩል', 'ወቅት', 'ከዚህበፊት', 'በኋላ', 'ከላይ', 'ከታች', 'ከ', 'ወደላይ', 'ታች', 'ውሥጥ', 'ውጭ', 'በላይ',\n",
    " 'እንደገና', 'ተጨማሪ', 'ከዚያ', 'አንድጊዜ', 'እዚህ', 'እዚያ', 'መቼ', 'የት', 'ለምን', 'እንዴት', 'ሁሉም', 'ማንኛውም', 'ሁለቱም', 'እያንዳንዳቸው', 'ጥቂቶች', 'በጣም', 'ሌላ', 'አንዳንድ',\n",
    " 'እንደዚህ', 'ብቻ', 'የራሡ', 'ተመሣሣይ', 'ሥለዚህ', 'ይልቅ', 'እንዲሁ', 'ት', 'ይችላል', 'ይገባል', 'ይገባኛል', 'አሁን', 'መ', 'ም', 'ኦ', 'ዳግም',\n",
    " 'መሆን', 'ሁለ', 'ሁለም', 'ህዝብ', 'ሀሙሥ', 'ለመሆኑ', 'ለምንድን', 'ሌሎች', 'መጽሀፍ', 'ማክሠኞ', 'ምን', 'ሠኞ', 'ሠው', 'ሢሆን', 'ሥንት', 'ረቡእ',\n",
    " 'ቅዳሜ', 'በዚህ', 'ብላ', 'ነገር', 'አለ', 'አርብ', 'አንተ', 'አንዳንድ', 'ኢትዮጵያ', 'እሁድ', 'እናንተ', 'እንኳን', 'እግር', 'ከመሆን', 'ወይንም', 'ዋና', 'ዘንድ', 'የሚከተለው', 'ያኔ', 'ይኼው', 'ገጽ', 'እነርሡ',\n",
    " 'ን', 'ና', 'ዎች', 'ይጠበቃል', 'ብለዋል', 'ሆ', 'ሁሉ', 'አንቀጽ', 'እንደሆነ', 'በማይበልጥ', 'መሠረት', 'ሁኔታ', 'ይሆናል', 'ሆኖ', 'ከአንድ', 'በማናቸውም',\n",
    " 'ወር', 'ከአምሥት', 'በሆነ', 'ከዚህ', 'የሆነ', 'ሀያ', 'ሆነ', 'በኊላ', 'በአንድ', 'የሆኑ', 'ከአሥራ', 'የሆነውን', 'መሆኑ', 'ሌላውን', 'ከሠባት', 'ለሌላ',\n",
    " 'አለበት', 'ሢል', 'ይሆናሉ', 'በሙሉ', 'አሥራ', 'ቢሆንም', 'አንዱ', 'የሌላውን', 'ከሁለት', 'የሆኑትን', 'በሆኑ', 'ጀምሮ', 'በመሆን', 'ባለ', 'ይህንን', 'እንዲቆይ', 'ሌላው', 'የሚሆነው', 'በአንዱ', 'ሢባል', 'ሣለ', 'የሆነው', 'መሆናቸው', 'በዋና', 'በማቀድ', 'ጊዜና', 'ለዚህ', 'ሦሥተኛ', 'የነገሩ', 'ሥድሥት', 'በሆነው', 'ይሁን', 'ከዚሁ', 'በእነዚህ', 'ከማናቸውም', 'ከነበረው',\n",
    " 'በአንዳንድ', 'በእያንዳንዱ', 'ጊዜም', 'አሥከ', 'የሌሎች', 'የሚሆኑት', 'ከሆነው', 'የነበረውን', 'ያሉ', 'ከሌሎች', 'አንዲት', 'ለሌሎች', 'ለሆነው', 'ሠኣት', 'ብሎ', 'ከሠላሣ',\n",
    " 'የሚሆኑ', 'ላይም', 'የሆናል', 'ከነዚህ', 'ያህል', 'ከሆነና', 'ለሆኑት', 'እነዚሁ', 'እንደሆኑ', 'ሥለማናቸውም', 'ሥለዚሁ', 'ከአንዳንድ',\n",
    " 'በእነዚሁ', 'በአምሥት', 'የሆኑበታል', 'ለነዚህ', 'ለማንኛውም', 'አንደኛ', 'ይኸኛው', 'ከርሡ', 'መሆኑን', 'ለዚያው', 'ለዚሁ', 'ለእነርሡም', 'እዚሁ', 'ሀ', 'ረ', 'ሸ', 'አምሥት',\n",
    " 'ከሦሥት', 'በተለይም', 'በሌላ', 'ሺህ', 'ማናቸውንም', 'ከአሥር', 'የማይበልጥ', 'እንዲሁም', 'ይህን', 'የዚህ', 'ማናቸውም', 'ከሥድሥት', 'መቶ', 'ያለ', 'አንድን',\n",
    " 'ያላቸውን', 'ሊሆን', 'ሦሥት', 'ካልሆነ', 'ቢያንሥ', 'ቢሆን', 'እነዚህን', 'አንዱን', 'ሁለት', 'ወይዘሮ', 'ተብሎ', 'ሣይሆን', 'እንደሆነና', 'ከብር', 'ሆኖም', 'የነበሩ',\n",
    " 'የሌላ', 'ያላቸው', 'ይህንኑ', 'ሆነው', 'በሥተቀር', 'ሥም', 'እንደገና', 'የማያንሥ', 'እጅግ', 'እንዲሆን', 'እንኳ', 'ከሀያ', 'ከሀምሣ', 'ይኸው', 'ለአንድ', 'የሚችለውን',\n",
    " 'በሚገባ', 'ይህም', 'እንዲሆኑ', 'ከሌላ', 'ለሆነ', 'በሌሎች', 'አንደሆነ', 'እንዲህ', 'በነዚሁ', 'በእንደዚህ', 'ሥምንት', 'ሢሆንና', 'ምንጊዜም', 'ለማናቸውም', 'የአንድ', 'እነዚህኑ', 'ሢሆኑ', 'በሁለቱም',\n",
    " 'እንደነዚህ', 'የሆኑት', 'የማናቸውም', 'ይህንንም', 'የአንድን', 'በሙሉም', 'በነዚህ', 'የዚሁ', 'ለእያንዳንዱ', 'ሥለሆነ', 'መሆናቸውን', 'ማንኛውንም', 'ሁለቱ', 'እንጂ',\n",
    " 'ከሥምንት', 'ሁለቱንም', 'በሁለት', 'በእሥር', 'በሚል', 'ቁጥር', 'ባሉ', 'ከመቶ', 'እነዚህም', 'ሢኖር', 'ሠላሣ', 'ለሆኑ', 'ሠባት', 'እነደሆነ', 'ይህችው', 'ከእነዚህ',\n",
    " 'ከእነዚሁ', 'የአንቀጹ', 'ወይ', 'የሆነችን']"
   ]
  },
  {
   "cell_type": "code",
   "execution_count": 6,
   "id": "567dc083",
   "metadata": {},
   "outputs": [],
   "source": [
    "def stopWordRemoval(tokens):\n",
    "    token_new=[]\n",
    "    for x in tokens:\n",
    "        if x not in stop_words:\n",
    "            token_new.append(x)\n",
    "    return token_new"
   ]
  },
  {
   "cell_type": "code",
   "execution_count": 7,
   "id": "7e398cae",
   "metadata": {},
   "outputs": [],
   "source": [
    "processed_docs=[]\n",
    "for item in new_list:\n",
    "    processed_docs.append(stopWordRemoval(item))\n",
    "#processed_docs"
   ]
  },
  {
   "cell_type": "code",
   "execution_count": 8,
   "id": "b611d558",
   "metadata": {},
   "outputs": [],
   "source": [
    " #covert list into a single string\n",
    "text_data=[]\n",
    " docgen=[]\n",
    "for x in processed_docs:\n",
    "    str_docs=' '.join(x)\n",
    "    text_data.append(str_docs)\n",
    "    for item in x:\n",
    "        docgen.append(item)"
   ]
  },
  {
   "cell_type": "code",
   "execution_count": 9,
   "id": "cdbb4ca6",
   "metadata": {},
   "outputs": [
    {
     "name": "stdout",
     "output_type": "stream",
     "text": [
      "  (0, 965)\t0.4024440704349471\n",
      "  (0, 780)\t0.4580618183405678\n",
      "  (0, 191)\t0.4932903626390473\n",
      "  (0, 549)\t0.4807167509381865\n",
      "  (0, 83)\t0.3921659906788894\n",
      "  (1, 701)\t0.26591240559055024\n",
      "  (1, 156)\t0.3393954538667488\n",
      "  (1, 147)\t0.21685252972815244\n",
      "  (1, 970)\t0.3001283279573019\n",
      "  (1, 410)\t0.3486548138707853\n",
      "  (1, 535)\t0.21499203317737567\n",
      "  (1, 268)\t0.4017734532765899\n",
      "  (1, 468)\t0.3315667765315688\n",
      "  (1, 1241)\t0.297279775250266\n",
      "  (1, 16)\t0.3866313905524116\n",
      "  (2, 426)\t0.28836180704527753\n",
      "  (2, 1181)\t0.19222388150431888\n",
      "  (2, 1198)\t0.3484213405809473\n",
      "  (2, 1236)\t0.2400437783388785\n",
      "  (2, 606)\t0.27235807724488353\n",
      "  (2, 1155)\t0.3623212698455725\n",
      "  (2, 275)\t0.3623212698455725\n",
      "  (2, 1048)\t0.3395092432190958\n",
      "  (2, 1212)\t0.33557536901735696\n",
      "  (2, 207)\t0.36914674534347713\n",
      "  :\t:\n",
      "  (7047, 1220)\t0.2929062688894968\n",
      "  (7047, 1275)\t0.284045099579184\n",
      "  (7047, 1037)\t0.2303407393682081\n",
      "  (7047, 620)\t0.2565197936147786\n",
      "  (7047, 80)\t0.41430361050975734\n",
      "  (7047, 341)\t0.1888231858132542\n",
      "  (7047, 109)\t0.2552176893416394\n",
      "  (7047, 366)\t0.2790747932692131\n",
      "  (7047, 775)\t0.24819166079652819\n",
      "  (7047, 151)\t0.19506512316940536\n",
      "  (7047, 663)\t0.3317699369865443\n",
      "  (7047, 1035)\t0.17703977705766386\n",
      "  (7047, 1050)\t0.206395389576733\n",
      "  (7048, 696)\t0.5418109230713777\n",
      "  (7048, 858)\t0.41758014422906303\n",
      "  (7048, 1166)\t0.4249011791798488\n",
      "  (7048, 1307)\t0.365024020968519\n",
      "  (7048, 49)\t0.4672089455840126\n",
      "  (7049, 492)\t0.42863164065358617\n",
      "  (7049, 184)\t0.43583967061586076\n",
      "  (7049, 1260)\t0.4721471448293799\n",
      "  (7049, 341)\t0.3138668056283865\n",
      "  (7049, 858)\t0.354614162490897\n",
      "  (7049, 127)\t0.2720277859386963\n",
      "  (7049, 151)\t0.324242316085271\n",
      "X =  ['ሀላፊ' 'ሀላፊነት' 'ሀረር' ... 'ፖሊሲ' 'ፖሊስ' 'ፖርቲ']\n"
     ]
    }
   ],
   "source": [
    "# converting the given text term-document matrix\n",
    " \n",
    "vectorizer = TfidfVectorizer(max_features=1500, min_df=10)\n",
    "X = vectorizer.fit_transform(text_data)\n",
    "words = np.array(vectorizer.get_feature_names())\n",
    "\n",
    "print(X)\n",
    "print(\"X = \", words)"
   ]
  },
  {
   "cell_type": "code",
   "execution_count": 10,
   "id": "e0a4219b",
   "metadata": {},
   "outputs": [
    {
     "name": "stderr",
     "output_type": "stream",
     "text": [
      "C:\\Users\\Kois\\anaconda3\\lib\\site-packages\\sklearn\\decomposition\\_nmf.py:312: FutureWarning: The 'init' value, when 'init=None' and n_components is less than n_samples and n_features, will be changed from 'nndsvd' to 'nndsvda' in 1.1 (renaming of 0.26).\n",
      "  warnings.warn((\"The 'init' value, when 'init=None' and \"\n"
     ]
    },
    {
     "name": "stdout",
     "output_type": "stream",
     "text": [
      "Topic 1: ተገኘ,ሰራ,ሰማ,ፓርቲ,ቻለ,መንግስት,ጀመረ,ሀገር,ሰጠ,ኖረ\n",
      "Topic 2: ስራ,ፈለገ,ተናገረ,ግልጽ,ተባለ,አከከ,አሰበ,አይ,ህይወት,አወቀ\n",
      "Topic 3: አይን,ተግባር,ቅዱስ_ጊዮርጊስ,ቆመ,ተመለከተ,ነበረ,ብዙ,አዲስ,ጊዜ,አየ\n",
      "Topic 4: ልደት,ሀገር,እግዚአብሄር,አመት,ፍቅር,አሜን,አል,መልካም,ደረሰ,ሰላም\n",
      "Topic 5: አወገዘ,ጸረ,ገደለ,ትግራይ,ኦሮሞ,ኦሮሚያ,መንግስት,ሙስሊም,ክልል,አማራ\n",
      "Topic 6: አይደል,ጻፈ,ይሄ,ሄደ,ወደደ,በላ,ውነት,እኮ,እንዴ,መሰለ\n",
      "Topic 7: ይሄ,ምክንያት,መልካም,ደግ,ጊዜ,ኖረ,እግዚአብሄር,ልጅ,ተስፋ,ድርግ\n",
      "Topic 8: እኮ,አመነ,ኖረ,አሰበ,ውነት,ከባድ,ጠፋ,ብዙ,መታ,ግን\n",
      "Topic 9: ቤት,ወጣ,እኮ,መራ,ብር,ጠፋ,እንዴ,ግራ,ቃል,ገባ\n",
      "Topic 10: አሰበ,ይሄ,መብት,ብልጽግና,ፓርቲ,ፍቅር,አብይ,ኦሮሞ,መንግስት,ነዉ\n"
     ]
    }
   ],
   "source": [
    "# Applying Non-Negative Matrix Factorization\n",
    " \n",
    "nmf = NMF(n_components=10, solver=\"mu\")\n",
    "W = nmf.fit_transform(X)\n",
    "H = nmf.components_\n",
    "\n",
    "for i, topic in enumerate(H):\n",
    "     print(\"Topic {}: {}\".format(i + 1, \",\".join([str(x) for x in words[topic.argsort()[-10:]]])))"
   ]
  },
  {
   "cell_type": "code",
   "execution_count": 11,
   "id": "1a24633e",
   "metadata": {},
   "outputs": [],
   "source": [
    "w2v_model = gensim.models.Word2Vec(sentences=processed_docs, min_count=1, sg=1)"
   ]
  },
  {
   "cell_type": "code",
   "execution_count": 12,
   "id": "e2010a3f",
   "metadata": {},
   "outputs": [
    {
     "name": "stdout",
     "output_type": "stream",
     "text": [
      "[-1.4526822e-03  3.6710624e-02 -5.4340796e-03 -1.0346452e-02\n",
      " -2.1716352e-03 -6.6241704e-02  1.0159052e-04  8.1055604e-02\n",
      " -1.4551998e-02 -2.0751026e-02 -1.6403895e-02 -4.5622177e-02\n",
      " -3.2350169e-03 -3.3728571e-03  2.4744634e-02 -4.6415269e-02\n",
      "  7.5946160e-04 -5.7704467e-02  6.7214305e-03 -4.8818626e-02\n",
      "  3.5165500e-02  8.4970407e-03  1.5997285e-02 -1.4619606e-02\n",
      " -1.3988626e-02 -9.6636446e-04 -2.9934151e-02 -1.3244477e-02\n",
      " -3.1960864e-02 -3.9175414e-03  4.5512985e-02  1.8005004e-02\n",
      "  8.6070430e-03 -1.9871561e-02  5.0219004e-03  2.5794053e-02\n",
      "  4.7752839e-03 -2.6280973e-02 -1.2008601e-02 -5.0873574e-02\n",
      "  4.3395762e-03 -1.7463366e-02 -2.9855473e-02  7.0183777e-04\n",
      "  1.9597033e-02 -1.6802259e-02 -2.8614983e-02  5.8749942e-03\n",
      "  2.2229955e-02  3.1917199e-02 -1.2714515e-03 -3.7278462e-02\n",
      " -1.7464129e-02 -9.3495883e-03 -1.5148840e-02  9.5079029e-03\n",
      "  1.3042592e-02 -9.4718562e-06 -2.8652539e-02  2.0138601e-02\n",
      "  6.6683418e-03  2.8180365e-02 -6.5694219e-03  2.1264631e-02\n",
      " -2.2523247e-02  3.1076092e-02  1.3302904e-02  2.3620663e-02\n",
      " -5.8365334e-02  5.5499755e-02 -3.2515876e-02  7.3418813e-03\n",
      "  2.8111760e-02 -1.5419889e-02  2.7129263e-02  1.1364325e-02\n",
      "  2.0710705e-03 -1.4128316e-02 -2.9681986e-02  1.5827280e-02\n",
      " -1.2145655e-02 -1.2405004e-02 -3.1785611e-02  3.9651420e-02\n",
      " -6.6863601e-03  2.5475128e-03 -8.2748784e-03  5.1506236e-02\n",
      "  3.4255013e-02  2.3056006e-02  2.1690862e-02  3.8659642e-03\n",
      "  6.4930217e-03  2.3917530e-03  4.9794208e-02  3.5415348e-02\n",
      "  1.0216687e-02 -2.9795460e-02  3.5499688e-03 -9.4830105e-03]\n"
     ]
    }
   ],
   "source": [
    "vocabulary = w2v_model.wv.index_to_key\n",
    "v1=w2v_model.wv['ሚያረገዉ']\n",
    "print(v1)"
   ]
  },
  {
   "cell_type": "code",
   "execution_count": 13,
   "id": "74fbb510",
   "metadata": {},
   "outputs": [
    {
     "name": "stdout",
     "output_type": "stream",
     "text": [
      "Model has 16177 terms\n"
     ]
    }
   ],
   "source": [
    "print(\"Model has %d terms\" % len(w2v_model.wv.key_to_index))"
   ]
  },
  {
   "cell_type": "code",
   "execution_count": 14,
   "id": "c4f34b6e",
   "metadata": {},
   "outputs": [],
   "source": [
    "kmin, kmax = 4, 15"
   ]
  },
  {
   "cell_type": "code",
   "execution_count": 15,
   "id": "5f35fbea",
   "metadata": {},
   "outputs": [
    {
     "name": "stdout",
     "output_type": "stream",
     "text": [
      "Applying NMF for k=4 ...\n",
      "Applying NMF for k=5 ...\n",
      "Applying NMF for k=6 ...\n",
      "Applying NMF for k=7 ...\n",
      "Applying NMF for k=8 ...\n",
      "Applying NMF for k=9 ...\n",
      "Applying NMF for k=10 ...\n",
      "Applying NMF for k=11 ...\n",
      "Applying NMF for k=12 ...\n",
      "Applying NMF for k=13 ...\n",
      "Applying NMF for k=14 ...\n",
      "Applying NMF for k=15 ...\n"
     ]
    }
   ],
   "source": [
    "from sklearn import decomposition\n",
    "topic_models = []\n",
    "# try each value of k\n",
    "for k in range(kmin,kmax+1):\n",
    "    print(\"Applying NMF for k=%d ...\" % k )\n",
    "    # run NMF\n",
    "    model = decomposition.NMF( init=\"nndsvd\", n_components=k ) \n",
    "    W = model.fit_transform(X)\n",
    "    H = model.components_    \n",
    "    # store for later\n",
    "    topic_models.append( (k,W,H) )"
   ]
  },
  {
   "cell_type": "code",
   "execution_count": 16,
   "id": "0a5904b4",
   "metadata": {},
   "outputs": [],
   "source": [
    "from itertools import combinations\n",
    "def calculate_coherence(w2v_model, term_rankings ):\n",
    "    overall_coherence = 0.0\n",
    "    for topic_index in range(len(term_rankings)):\n",
    "        # check each pair of terms\n",
    "        pair_scores = []\n",
    "        for pair in combinations(term_rankings[topic_index], 2 ):\n",
    "               pair_scores.append(w2v_model.wv.similarity(pair[0], pair[1]) )\n",
    "           # get the mean for all pairs in this topic\n",
    "               topic_score = sum(pair_scores) / len(pair_scores)\n",
    "               overall_coherence += topic_score\n",
    "    # get the mean score across all topics\n",
    "    return overall_coherence / len(term_rankings)"
   ]
  },
  {
   "cell_type": "code",
   "execution_count": 17,
   "id": "14550481",
   "metadata": {},
   "outputs": [],
   "source": [
    "def get_descriptor( all_terms, H, topic_index, top ):\n",
    "    # reverse sort the values to sort the indices\n",
    "    top_indices = np.argsort( H[topic_index,:] )[::-1]\n",
    "    # now get the terms corresponding to the top-ranked indices\n",
    "    top_terms = []\n",
    "    for term_index in top_indices[0:top]:\n",
    "        top_terms.append(all_terms[term_index] )\n",
    "    return top_terms"
   ]
  },
  {
   "cell_type": "code",
   "execution_count": 18,
   "id": "73d02e4b",
   "metadata": {},
   "outputs": [
    {
     "name": "stdout",
     "output_type": "stream",
     "text": [
      "K=04: Coherence=43.1339\n",
      "K=05: Coherence=43.4149\n",
      "K=06: Coherence=43.4826\n",
      "K=07: Coherence=43.1333\n",
      "K=08: Coherence=43.3020\n",
      "K=09: Coherence=43.3623\n",
      "K=10: Coherence=43.3703\n",
      "K=11: Coherence=43.4474\n",
      "K=12: Coherence=43.4104\n",
      "K=13: Coherence=43.4821\n",
      "K=14: Coherence=43.4787\n",
      "K=15: Coherence=43.5645\n"
     ]
    }
   ],
   "source": [
    "k_values = []\n",
    "coherences = []\n",
    "for (k,W,H) in topic_models:\n",
    "    # Get all of the topic descriptors - the term_rankings, based on top 10 terms\n",
    "    term_rankings = []\n",
    "    for topic_index in range(k):\n",
    "        term_rankings.append( get_descriptor(docgen, H, topic_index, 10 ) )\n",
    "    # Now calculate the coherence based on our Word2vec model\n",
    "    k_values.append(k)\n",
    "    try:\n",
    "        coherences.append(calculate_coherence(w2v_model, term_rankings ) )\n",
    "    except KeyError:\n",
    "        coherences.append(calculate_coherence(w2v_model, term_rankings ) )\n",
    "        #coherences.append(43)\n",
    "    print(\"K=%02d: Coherence=%.4f\" % ( k, coherences[-1] ) )"
   ]
  },
  {
   "cell_type": "code",
   "execution_count": 19,
   "id": "92838107",
   "metadata": {},
   "outputs": [
    {
     "data": {
      "image/png": "[encoded data removed]",
      "text/plain": [
       "<Figure size 432x288 with 1 Axes>"
      ]
     },
     "metadata": {
      "needs_background": "light"
     },
     "output_type": "display_data"
    }
   ],
   "source": [
    "plt.plot(k_values, coherences)\n",
    "plt.xlabel(\"Number of Topics\")\n",
    "plt.ylabel(\"Coherence score\")\n",
    "plt.legend((\"coherence_values\"), loc='best')\n",
    "plt.show()"
   ]
  },
  {
   "cell_type": "code",
   "execution_count": 20,
   "id": "54d7fd39",
   "metadata": {},
   "outputs": [
    {
     "data": {
      "image/png": "[encoded data removed]",
      "text/plain": [
       "<Figure size 936x504 with 1 Axes>"
      ]
     },
     "metadata": {
      "needs_background": "light"
     },
     "output_type": "display_data"
    }
   ],
   "source": [
    "import matplotlib.pyplot as plt\n",
    "fig = plt.figure(figsize=(13,7))\n",
    "# create the line plot\n",
    "ax = plt.plot( k_values, coherences )\n",
    "plt.xticks(k_values)\n",
    "plt.xlabel(\"Number of Topics\")\n",
    "plt.ylabel(\"Mean Coherence\")\n",
    "# add the points\n",
    "plt.scatter(k_values, coherences, s=120)\n",
    "# find and annotate the maximum point on the plot\n",
    "ymax = max(coherences)\n",
    "xpos = coherences.index(ymax)\n",
    "best_k = k_values[xpos]\n",
    "plt.annotate(\"k=%d\" % best_k, xy=(best_k, ymax), xytext=(best_k, ymax), textcoords=\"offset points\", fontsize=16)\n",
    "# show the plot\n",
    "plt.show()"
   ]
  },
  {
   "cell_type": "markdown",
   "id": "23ce4d42",
   "metadata": {},
   "source": []
  },
  {
   "cell_type": "code",
   "execution_count": 21,
   "id": "4d7a4be8",
   "metadata": {},
   "outputs": [
    {
     "name": "stderr",
     "output_type": "stream",
     "text": [
      "C:\\Users\\Kois\\anaconda3\\lib\\site-packages\\sklearn\\decomposition\\_nmf.py:1090: ConvergenceWarning: Maximum number of iterations 200 reached. Increase it to improve convergence.\n",
      "  warnings.warn(\"Maximum number of iterations %d reached. Increase it to\"\n"
     ]
    },
    {
     "name": "stdout",
     "output_type": "stream",
     "text": [
      "K=10: Coherence=43.4152\n",
      "K=20: Coherence=43.6476\n",
      "K=30: Coherence=43.7924\n",
      "K=40: Coherence=43.8653\n",
      "K=50: Coherence=43.8712\n",
      "K=60: Coherence=43.8472\n",
      "K=70: Coherence=43.8236\n",
      "K=80: Coherence=43.9395\n"
     ]
    }
   ],
   "source": [
    "# a scikit-learn package to do NMF\n",
    " #Importing Necessary packages\n",
    "import gensim\n",
    "import pandas as pd\n",
    "import numpy as np\n",
    "from sklearn.feature_extraction.text import TfidfVectorizer\n",
    "from sklearn.decomposition import NMF\n",
    "import matplotlib.pyplot as plt\n",
    "from itertools import combinations\n",
    "\n",
    "df=pd.read_csv('processedDEV.csv')\n",
    "df=df.drop(['Unnamed: 0'], axis = 1)\n",
    "my_list=df.to_numpy().tolist()\n",
    "\n",
    "#my_doc=pd.read_csv('C:/Users/Kois/unLemmatizedCorpus.csv') #unLemmatized tokens\n",
    "my_root=pd.read_csv('C:/Users/Kois/lemmatizedCorpus.csv') #Lemmatized tokens\n",
    "my_root=my_root.drop(['Unnamed: 0.1'], axis = 1)\n",
    "my_root=my_root.drop(['Unnamed: 0'], axis = 1)\n",
    "my_root=my_root.to_numpy().tolist()\n",
    "\n",
    "new_list=[]\n",
    "temp_list=[]\n",
    "for x in my_root:\n",
    "    for item in x:\n",
    "        if str(item) != 'nan':\n",
    "            temp_list.append(item)\n",
    "    new_list.append(temp_list)\n",
    "    temp_list=[]\n",
    "\n",
    "stop_words=['እኔ', 'የእኔ', 'እኔራሤ', 'እኛ', 'የእኛ', 'እኛራሣችን', 'አንቺ', 'ነህ', 'አላችሁ', 'እርሥዎ', 'ትፈልጋለህ', 'ያንተ', 'ራሥህን', 'እራሣችሁ', 'እሡ', 'የእሡ',\n",
    " 'ራሡ', 'እሷ', 'እሷናት', 'የእሷ', 'እራሷ', 'ነው', 'እነሡ', 'እነሡን', 'የእነሡ', 'ራሣቸው', 'ምንድን', 'የትኛው', 'ማን', 'ይህ', 'የሚልነው', 'ያ', 'እነዚህ', 'እነዚያ', 'ነኝ', 'ናቸው', 'ነበር', 'ነበሩ', 'ሁን', 'ቆይቷል', 'መሆን',\n",
    " 'አላቸው', 'አለው', 'ነበረው', 'ያለው', 'መሥራት', 'ያደርጋል', 'አደረገ', 'ማድረግ', 'ሀ', 'አንድ', 'የ', 'እና', 'ከሆነ', 'ወይም', 'ምክንያቱም',\n",
    " 'እንደ', 'እሥከ', 'እያለ', 'በ', 'ለ', 'ጋር', 'ሥለ', 'ላይ', 'መካከል', 'ወደ', 'በኩል', 'ወቅት', 'ከዚህበፊት', 'በኋላ', 'ከላይ', 'ከታች', 'ከ', 'ወደላይ', 'ታች', 'ውሥጥ', 'ውጭ', 'በላይ',\n",
    " 'እንደገና', 'ተጨማሪ', 'ከዚያ', 'አንድጊዜ', 'እዚህ', 'እዚያ', 'መቼ', 'የት', 'ለምን', 'እንዴት', 'ሁሉም', 'ማንኛውም', 'ሁለቱም', 'እያንዳንዳቸው', 'ጥቂቶች', 'በጣም', 'ሌላ', 'አንዳንድ',\n",
    " 'እንደዚህ', 'ብቻ', 'የራሡ', 'ተመሣሣይ', 'ሥለዚህ', 'ይልቅ', 'እንዲሁ', 'ት', 'ይችላል', 'ይገባል', 'ይገባኛል', 'አሁን', 'መ', 'ም', 'ኦ', 'ዳግም',\n",
    " 'መሆን', 'ሁለ', 'ሁለም', 'ህዝብ', 'ሀሙሥ', 'ለመሆኑ', 'ለምንድን', 'ሌሎች', 'መጽሀፍ', 'ማክሠኞ', 'ምን', 'ሠኞ', 'ሠው', 'ሢሆን', 'ሥንት', 'ረቡእ',\n",
    " 'ቅዳሜ', 'በዚህ', 'ብላ', 'ነገር', 'አለ', 'አርብ', 'አንተ', 'አንዳንድ', 'ኢትዮጵያ', 'እሁድ', 'እናንተ', 'እንኳን', 'እግር', 'ከመሆን', 'ወይንም', 'ዋና', 'ዘንድ', 'የሚከተለው', 'ያኔ', 'ይኼው', 'ገጽ', 'እነርሡ',\n",
    " 'ን', 'ና', 'ዎች', 'ይጠበቃል', 'ብለዋል', 'ሆ', 'ሁሉ', 'አንቀጽ', 'እንደሆነ', 'በማይበልጥ', 'መሠረት', 'ሁኔታ', 'ይሆናል', 'ሆኖ', 'ከአንድ', 'በማናቸውም',\n",
    " 'ወር', 'ከአምሥት', 'በሆነ', 'ከዚህ', 'የሆነ', 'ሀያ', 'ሆነ', 'በኊላ', 'በአንድ', 'የሆኑ', 'ከአሥራ', 'የሆነውን', 'መሆኑ', 'ሌላውን', 'ከሠባት', 'ለሌላ',\n",
    " 'አለበት', 'ሢል', 'ይሆናሉ', 'በሙሉ', 'አሥራ', 'ቢሆንም', 'አንዱ', 'የሌላውን', 'ከሁለት', 'የሆኑትን', 'በሆኑ', 'ጀምሮ', 'በመሆን', 'ባለ', 'ይህንን', 'እንዲቆይ', 'ሌላው', 'የሚሆነው', 'በአንዱ', 'ሢባል', 'ሣለ', 'የሆነው', 'መሆናቸው', 'በዋና', 'በማቀድ', 'ጊዜና', 'ለዚህ', 'ሦሥተኛ', 'የነገሩ', 'ሥድሥት', 'በሆነው', 'ይሁን', 'ከዚሁ', 'በእነዚህ', 'ከማናቸውም', 'ከነበረው',\n",
    " 'በአንዳንድ', 'በእያንዳንዱ', 'ጊዜም', 'አሥከ', 'የሌሎች', 'የሚሆኑት', 'ከሆነው', 'የነበረውን', 'ያሉ', 'ከሌሎች', 'አንዲት', 'ለሌሎች', 'ለሆነው', 'ሠኣት', 'ብሎ', 'ከሠላሣ',\n",
    " 'የሚሆኑ', 'ላይም', 'የሆናል', 'ከነዚህ', 'ያህል', 'ከሆነና', 'ለሆኑት', 'እነዚሁ', 'እንደሆኑ', 'ሥለማናቸውም', 'ሥለዚሁ', 'ከአንዳንድ',\n",
    " 'በእነዚሁ', 'በአምሥት', 'የሆኑበታል', 'ለነዚህ', 'ለማንኛውም', 'አንደኛ', 'ይኸኛው', 'ከርሡ', 'መሆኑን', 'ለዚያው', 'ለዚሁ', 'ለእነርሡም', 'እዚሁ', 'ሀ', 'ረ', 'ሸ', 'አምሥት',\n",
    " 'ከሦሥት', 'በተለይም', 'በሌላ', 'ሺህ', 'ማናቸውንም', 'ከአሥር', 'የማይበልጥ', 'እንዲሁም', 'ይህን', 'የዚህ', 'ማናቸውም', 'ከሥድሥት', 'መቶ', 'ያለ', 'አንድን',\n",
    " 'ያላቸውን', 'ሊሆን', 'ሦሥት', 'ካልሆነ', 'ቢያንሥ', 'ቢሆን', 'እነዚህን', 'አንዱን', 'ሁለት', 'ወይዘሮ', 'ተብሎ', 'ሣይሆን', 'እንደሆነና', 'ከብር', 'ሆኖም', 'የነበሩ',\n",
    " 'የሌላ', 'ያላቸው', 'ይህንኑ', 'ሆነው', 'በሥተቀር', 'ሥም', 'እንደገና', 'የማያንሥ', 'እጅግ', 'እንዲሆን', 'እንኳ', 'ከሀያ', 'ከሀምሣ', 'ይኸው', 'ለአንድ', 'የሚችለውን',\n",
    " 'በሚገባ', 'ይህም', 'እንዲሆኑ', 'ከሌላ', 'ለሆነ', 'በሌሎች', 'አንደሆነ', 'እንዲህ', 'በነዚሁ', 'በእንደዚህ', 'ሥምንት', 'ሢሆንና', 'ምንጊዜም', 'ለማናቸውም', 'የአንድ', 'እነዚህኑ', 'ሢሆኑ', 'በሁለቱም',\n",
    " 'እንደነዚህ', 'የሆኑት', 'የማናቸውም', 'ይህንንም', 'የአንድን', 'በሙሉም', 'በነዚህ', 'የዚሁ', 'ለእያንዳንዱ', 'ሥለሆነ', 'መሆናቸውን', 'ማንኛውንም', 'ሁለቱ', 'እንጂ',\n",
    " 'ከሥምንት', 'ሁለቱንም', 'በሁለት', 'በእሥር', 'በሚል', 'ቁጥር', 'ባሉ', 'ከመቶ', 'እነዚህም', 'ሢኖር', 'ሠላሣ', 'ለሆኑ', 'ሠባት', 'እነደሆነ', 'ይህችው', 'ከእነዚህ',\n",
    " 'ከእነዚሁ', 'የአንቀጹ', 'ወይ', 'የሆነችን']\n",
    "\n",
    "def stopWordRemoval(tokens):\n",
    "    token_new=[]\n",
    "    for x in tokens:\n",
    "        if x not in stop_words:\n",
    "            token_new.append(x)\n",
    "    return token_new\n",
    "\n",
    "\n",
    "def calculate_coherence(w2v_model, term_rankings ):\n",
    "    overall_coherence = 0.0\n",
    "    for topic_index in range(len(term_rankings)):\n",
    "        # check each pair of terms\n",
    "        pair_scores = []\n",
    "        for pair in combinations(term_rankings[topic_index], 2 ):\n",
    "               pair_scores.append(w2v_model.wv.similarity(pair[0], pair[1]) )\n",
    "           # get the mean for all pairs in this topic\n",
    "               topic_score = sum(pair_scores) / len(pair_scores)\n",
    "               overall_coherence += topic_score\n",
    "    # get the mean score across all topics\n",
    "    return overall_coherence / len(term_rankings)\n",
    "\n",
    "\n",
    "def get_descriptor( all_terms, H, topic_index, top ):\n",
    "    # reverse sort the values to sort the indices\n",
    "    top_indices = np.argsort( H[topic_index,:] )[::-1]\n",
    "    # now get the terms corresponding to the top-ranked indices\n",
    "    top_terms = []\n",
    "    for term_index in top_indices[0:top]:\n",
    "        top_terms.append(all_terms[term_index] )\n",
    "    return top_terms\n",
    "\n",
    "processed_docs=[]\n",
    "for item in new_list:\n",
    "    processed_docs.append(stopWordRemoval(item))\n",
    "\n",
    " #covert list into a single string\n",
    "text_data=[]\n",
    "docgen=[]\n",
    "for x in processed_docs:\n",
    "    str_docs=' '.join(x)\n",
    "    text_data.append(str_docs)\n",
    "    for item in x:\n",
    "        docgen.append(item)\n",
    "\n",
    "# converting the given text term-document matrix\n",
    " \n",
    "vectorizer = TfidfVectorizer(max_features=1500, min_df=10)\n",
    "X = vectorizer.fit_transform(text_data)\n",
    "words = np.array(vectorizer.get_feature_names())\n",
    "\n",
    "#build word2vec model\n",
    "w2v_model = gensim.models.Word2Vec(sentences=processed_docs, min_count=1, sg=1)\n",
    "\n",
    "kmin, kmax = 10, 90\n",
    "from sklearn import decomposition\n",
    "topic_models = []\n",
    "# try each value of k\n",
    "for k in range(kmin,kmax,10):\n",
    "    #print(\"Applying NMF for k=%d ...\" % k )\n",
    "    # run NMF\n",
    "    model = decomposition.NMF( init=\"nndsvd\", n_components=k ) \n",
    "    W = model.fit_transform(X)\n",
    "    H = model.components_    \n",
    "    # store for later\n",
    "    topic_models.append( (k,W,H) )\n",
    "    \n",
    "k_values = []\n",
    "coherences = []\n",
    "for (k,W,H) in topic_models:\n",
    "    # Get all of the topic descriptors - the term_rankings, based on top 10 terms\n",
    "    term_rankings = []\n",
    "    for topic_index in range(k):\n",
    "        term_rankings.append( get_descriptor(docgen, H, topic_index, 10 ) )\n",
    "    # Now calculate the coherence based on our Word2vec model\n",
    "    k_values.append(k)\n",
    "    try:\n",
    "        coherences.append(calculate_coherence(w2v_model, term_rankings ) )\n",
    "    except KeyError:\n",
    "        coherences.append(calculate_coherence(w2v_model, term_rankings ) )\n",
    "        #coherences.append(43)\n",
    "    print(\"K=%02d: Coherence=%.4f\" % ( k, coherences[-1] ) )\n",
    "\n",
    "    "
   ]
  },
  {
   "cell_type": "code",
   "execution_count": null,
   "id": "d1d39269",
   "metadata": {},
   "outputs": [],
   "source": []
  }
 ],
 "metadata": {
  "kernelspec": {
   "display_name": "Python 3 (ipykernel)",
   "language": "python",
   "name": "python3"
  },
  "language_info": {
   "codemirror_mode": {
    "name": "ipython",
    "version": 3
   },
   "file_extension": ".py",
   "mimetype": "text/x-python",
   "name": "python",
   "nbconvert_exporter": "python",
   "pygments_lexer": "ipython3",
   "version": "3.9.7"
  }
 },
 "nbformat": 4,
 "nbformat_minor": 5
}
