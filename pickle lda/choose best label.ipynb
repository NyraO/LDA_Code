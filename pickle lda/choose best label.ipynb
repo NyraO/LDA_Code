{
 "cells": [
  {
   "cell_type": "code",
   "execution_count": 1,
   "id": "a919a1ce",
   "metadata": {},
   "outputs": [
    {
     "name": "stdout",
     "output_type": "stream",
     "text": [
      "\n",
      "@@@@ This is HornMorpho, version 4.0.5 @@@@\n",
      "\n",
      "Connecting to wss://anvil.works/uplink\n",
      "Anvil websocket open\n",
      "Connected to \"Default environment\" as SERVER\n"
     ]
    }
   ],
   "source": [
    "import pickle\n",
    "import pandas as pd\n",
    "import gensim\n",
    "import anvil.server\n",
    "import hm\n",
    "import anvil.server\n",
    "\n",
    "anvil.server.connect(\"HUJYUXJZCLX7LZODO4UUTNWP-SJINGSIXGMF7J7GU\")\n",
    "\n",
    "stop_words=['እኔ', 'የእኔ', 'እኔራሤ', 'እኛ', 'የእኛ', 'እኛራሣችን', 'አንቺ', 'ነህ', 'አላችሁ', 'እርሥዎ', 'ትፈልጋለህ', 'ያንተ', 'ራሥህን', 'እራሣችሁ', 'እሡ', 'የእሡ',\n",
    " 'ራሡ', 'እሷ', 'እሷናት', 'የእሷ', 'እራሷ', 'ነው', 'እነሡ', 'እነሡን', 'የእነሡ', 'ራሣቸው', 'ምንድን', 'የትኛው', 'ማን', 'ይህ', 'የሚልነው', 'ያ', 'እነዚህ', 'እነዚያ', 'ነኝ', 'ናቸው', 'ነበር', 'ነበሩ', 'ሁን', 'ቆይቷል', 'መሆን',\n",
    " 'አላቸው', 'አለው', 'ነበረው', 'ያለው', 'መሥራት', 'ያደርጋል', 'አደረገ', 'ማድረግ', 'ሀ', 'አንድ', 'የ', 'እና', 'ከሆነ', 'ወይም', 'ምክንያቱም',\n",
    " 'እንደ', 'እሥከ', 'እያለ', 'በ', 'ለ', 'ጋር', 'ሥለ', 'ላይ', 'መካከል', 'ወደ', 'በኩል', 'ወቅት', 'ከዚህበፊት', 'በኋላ', 'ከላይ', 'ከታች', 'ከ', 'ወደላይ', 'ታች', 'ውሥጥ', 'ውጭ', 'በላይ',\n",
    " 'እንደገና', 'ተጨማሪ', 'ከዚያ', 'አንድጊዜ', 'እዚህ', 'እዚያ', 'መቼ', 'የት', 'ለምን', 'እንዴት', 'ሁሉም', 'ማንኛውም', 'ሁለቱም', 'እያንዳንዳቸው', 'ጥቂቶች', 'በጣም', 'ሌላ', 'አንዳንድ',\n",
    " 'እንደዚህ', 'ብቻ', 'የራሡ', 'ተመሣሣይ', 'ሥለዚህ', 'ይልቅ', 'እንዲሁ', 'ት', 'ይችላል', 'ይገባል', 'ይገባኛል', 'አሁን', 'መ', 'ም', 'ኦ', 'ዳግም',\n",
    " 'መሆን', 'ሁለ', 'ሁለም', 'ህዝብ', 'ሀሙሥ', 'ለመሆኑ', 'ለምንድን', 'ሌሎች', 'መጽሀፍ', 'ማክሠኞ', 'ምን', 'ሠኞ', 'ሠው', 'ሢሆን', 'ሥንት', 'ረቡእ',\n",
    " 'ቅዳሜ', 'በዚህ', 'ብላ', 'ነገር', 'አለ', 'አርብ', 'አንተ', 'አንዳንድ', 'ኢትዮጵያ', 'እሁድ', 'እናንተ', 'እንኳን', 'እግር', 'ከመሆን', 'ወይንም', 'ዋና', 'ዘንድ', 'የሚከተለው', 'ያኔ', 'ይኼው', 'ገጽ', 'እነርሡ',\n",
    " 'ን', 'ና', 'ዎች', 'ይጠበቃል', 'ብለዋል', 'ሆ', 'ሁሉ', 'አንቀጽ', 'እንደሆነ', 'በማይበልጥ', 'መሠረት', 'ሁኔታ', 'ይሆናል', 'ሆኖ', 'ከአንድ', 'በማናቸውም',\n",
    " 'ወር', 'ከአምሥት', 'በሆነ', 'ከዚህ', 'የሆነ', 'ሀያ', 'ሆነ', 'በኊላ', 'በአንድ', 'የሆኑ', 'ከአሥራ', 'የሆነውን', 'መሆኑ', 'ሌላውን', 'ከሠባት', 'ለሌላ',\n",
    " 'አለበት', 'ሢል', 'ይሆናሉ', 'በሙሉ', 'አሥራ', 'ቢሆንም', 'አንዱ', 'የሌላውን', 'ከሁለት', 'የሆኑትን', 'በሆኑ', 'ጀምሮ', 'በመሆን', 'ባለ', 'ይህንን', 'እንዲቆይ', 'ሌላው', 'የሚሆነው', 'በአንዱ', 'ሢባል', 'ሣለ', 'የሆነው', 'መሆናቸው', 'በዋና', 'በማቀድ', 'ጊዜና', 'ለዚህ', 'ሦሥተኛ', 'የነገሩ', 'ሥድሥት', 'በሆነው', 'ይሁን', 'ከዚሁ', 'በእነዚህ', 'ከማናቸውም', 'ከነበረው',\n",
    " 'በአንዳንድ', 'በእያንዳንዱ', 'ጊዜም', 'አሥከ', 'የሌሎች', 'የሚሆኑት', 'ከሆነው', 'የነበረውን', 'ያሉ', 'ከሌሎች', 'አንዲት', 'ለሌሎች', 'ለሆነው', 'ሠኣት', 'ብሎ', 'ከሠላሣ',\n",
    " 'የሚሆኑ', 'ላይም', 'የሆናል', 'ከነዚህ', 'ያህል', 'ከሆነና', 'ለሆኑት', 'እነዚሁ', 'እንደሆኑ', 'ሥለማናቸውም', 'ሥለዚሁ', 'ከአንዳንድ',\n",
    " 'በእነዚሁ', 'በአምሥት', 'የሆኑበታል', 'ለነዚህ', 'ለማንኛውም', 'አንደኛ', 'ይኸኛው', 'ከርሡ', 'መሆኑን', 'ለዚያው', 'ለዚሁ', 'ለእነርሡም', 'እዚሁ', 'ሀ', 'ረ', 'ሸ', 'አምሥት',\n",
    " 'ከሦሥት', 'በተለይም', 'በሌላ', 'ሺህ', 'ማናቸውንም', 'ከአሥር', 'የማይበልጥ', 'እንዲሁም', 'ይህን', 'የዚህ', 'ማናቸውም', 'ከሥድሥት', 'መቶ', 'ያለ', 'አንድን',\n",
    " 'ያላቸውን', 'ሊሆን', 'ሦሥት', 'ካልሆነ', 'ቢያንሥ', 'ቢሆን', 'እነዚህን', 'አንዱን', 'ሁለት', 'ወይዘሮ', 'ተብሎ', 'ሣይሆን', 'እንደሆነና', 'ከብር', 'ሆኖም', 'የነበሩ',\n",
    " 'የሌላ', 'ያላቸው', 'ይህንኑ', 'ሆነው', 'በሥተቀር', 'ሥም', 'እንደገና', 'የማያንሥ', 'እጅግ', 'እንዲሆን', 'እንኳ', 'ከሀያ', 'ከሀምሣ', 'ይኸው', 'ለአንድ', 'የሚችለውን',\n",
    " 'በሚገባ', 'ይህም', 'እንዲሆኑ', 'ከሌላ', 'ለሆነ', 'በሌሎች', 'አንደሆነ', 'እንዲህ', 'በነዚሁ', 'በእንደዚህ', 'ሥምንት', 'ሢሆንና', 'ምንጊዜም', 'ለማናቸውም', 'የአንድ', 'እነዚህኑ', 'ሢሆኑ', 'በሁለቱም',\n",
    " 'እንደነዚህ', 'የሆኑት', 'የማናቸውም', 'ይህንንም', 'የአንድን', 'በሙሉም', 'በነዚህ', 'የዚሁ', 'ለእያንዳንዱ', 'ሥለሆነ', 'መሆናቸውን', 'ማንኛውንም', 'ሁለቱ', 'እንጂ',\n",
    " 'ከሥምንት', 'ሁለቱንም', 'በሁለት', 'በእሥር', 'በሚል', 'ቁጥር', 'ባሉ', 'ከመቶ', 'እነዚህም', 'ሢኖር', 'ሠላሣ', 'ለሆኑ', 'ሠባት', 'እነደሆነ', 'ይህችው', 'ከእነዚህ',\n",
    " 'ከእነዚሁ', 'የአንቀጹ', 'ወይ', 'የሆነችን']\n",
    "\n",
    "def stopWordRemoval(tokens):\n",
    "    token_new=[]\n",
    "    for x in tokens:\n",
    "        if x not in stop_words:\n",
    "            token_new.append(x)\n",
    "    \n",
    "    return token_new\n",
    "\n",
    "def remove_new_verbs(list_of_terms):\n",
    "    no_verbs=[]\n",
    "    for item in list_of_terms:\n",
    "        try:\n",
    "            y=hm.anal('amh',item,um=True)\n",
    "            if y[0]['POS']!='v':\n",
    "                no_verbs.append(item)\n",
    "        except:\n",
    "            no_verbs.append(item)\n",
    "    return no_verbs"
   ]
  },
  {
   "cell_type": "code",
   "execution_count": 2,
   "id": "6961b8a5",
   "metadata": {},
   "outputs": [],
   "source": [
    "import numpy as np\n",
    "import pickle\n",
    "word_cluster=[]\n",
    "cluster_index=[]\n",
    "gsdmm = pickle.load(open('C:/Users/Kois/Downloads/with_verb/gsdmm_k9_a6_b9_c0.5955125616811183.pkl', 'rb'))\n",
    "# print number of documents per topic\n",
    "doc_count = np.array(gsdmm.cluster_doc_count)\n",
    "\n",
    "# Topics sorted by the number of document they are allocated to\n",
    "top_index = doc_count.argsort()[-15:][::-1]\n",
    "\n",
    "# define function to get top words per topic\n",
    "def top_words(cluster_word_distribution, top_cluster, values):\n",
    "    topic_dataframe={}\n",
    "    for cluster in top_cluster:\n",
    "        sort_dicts = sorted(cluster_word_distribution[cluster].items(), key=lambda k: k[1], reverse=True)[:values]\n",
    "        word_cluster.append(sort_dicts)\n",
    "        cluster_index.append(cluster)\n",
    "        topic_dataframe[cluster] = sort_dicts\n",
    "        #print(topic_dataframe)\n",
    "    return topic_dataframe"
   ]
  },
  {
   "cell_type": "code",
   "execution_count": 3,
   "id": "b09dc8d8",
   "metadata": {},
   "outputs": [],
   "source": [
    "@anvil.server.callable\n",
    "def extract_target_gibbs(text):\n",
    "    list_of_terms=text.split(\" \")\n",
    "    list_of_terms=stopWordRemoval(list_of_terms)\n",
    "    list_of_terms=remove_new_verbs(list_of_terms)\n",
    "    \n",
    "    label,result = gsdmm.choose_best_label(list_of_terms)\n",
    "    \n",
    "    x=top_words(gsdmm.cluster_word_distribution, top_index, 10)\n",
    "    return (x[label])"
   ]
  },
  {
   "cell_type": "code",
   "execution_count": 4,
   "id": "4f870472",
   "metadata": {},
   "outputs": [
    {
     "name": "stdout",
     "output_type": "stream",
     "text": [
      "Loading FSTs for አማርኛ (analysis/generation) ...\n"
     ]
    },
    {
     "data": {
      "text/plain": [
       "[('ሀገር', 271),\n",
       " ('አማራ', 228),\n",
       " ('መንግስት', 195),\n",
       " ('ራስ', 192),\n",
       " ('ሰማ', 161),\n",
       " ('ልጅ', 160),\n",
       " ('ብዙ', 159),\n",
       " ('ስራ', 150),\n",
       " ('አይነት', 148),\n",
       " ('ሰላም', 143)]"
      ]
     },
     "execution_count": 4,
     "metadata": {},
     "output_type": "execute_result"
    }
   ],
   "source": [
    "extract_target_gibbs(\"መብት የለውም ብልጽግና ብሎ ፓርቲ መመስረት\")"
   ]
  },
  {
   "cell_type": "code",
   "execution_count": 5,
   "id": "c2e1ceea",
   "metadata": {},
   "outputs": [
    {
     "data": {
      "text/plain": [
       "{2: [('አየ', 272),\n",
       "  ('አወቀ', 243),\n",
       "  ('መሰለ', 211),\n",
       "  ('ኖረ', 207),\n",
       "  ('ልጅ', 195),\n",
       "  ('ገባ', 194),\n",
       "  ('ሀገር', 183),\n",
       "  ('ራስ', 161),\n",
       "  ('ሰማ', 154),\n",
       "  ('ሰጠ', 151)],\n",
       " 8: [('አማራ', 298),\n",
       "  ('መንግስት', 241),\n",
       "  ('ፓርቲ', 235),\n",
       "  ('ክልል', 196),\n",
       "  ('ሀገር', 194),\n",
       "  ('ገባ', 187),\n",
       "  ('ብልጽግና', 181),\n",
       "  ('ኖረ', 165),\n",
       "  ('ምርጫ', 154),\n",
       "  ('አየ', 149)],\n",
       " 6: [('ተገኘ', 122),\n",
       "  ('ከተማ', 121),\n",
       "  ('ቀረበ', 81),\n",
       "  ('ደረሰ', 79),\n",
       "  ('ክልል', 78),\n",
       "  ('ቤት', 78),\n",
       "  ('አወቀ', 76),\n",
       "  ('ገባ', 73),\n",
       "  ('አመት', 72),\n",
       "  ('ሰጠ', 69)],\n",
       " 3: [('ሰላም', 76),\n",
       "  ('እግዚአብሄር', 67),\n",
       "  ('ደረሰ', 66),\n",
       "  ('አል', 47),\n",
       "  ('አሜን', 44),\n",
       "  ('ቅዱስ', 43),\n",
       "  ('ወለደ', 43),\n",
       "  ('ጌታ', 38),\n",
       "  ('ልደት', 38),\n",
       "  ('ቀን', 37)],\n",
       " 4: [('ገባ', 5),\n",
       "  ('የአሜሪካንን_የሁለትዮሽ', 5),\n",
       "  ('ከለከለ_ትብብር', 5),\n",
       "  ('ጥንክር', 5),\n",
       "  ('ዛሬ_ጠዋት', 5),\n",
       "  ('ዋሽንግተን_ዲሲ', 5),\n",
       "  ('ሀገር', 3),\n",
       "  ('መራ', 3),\n",
       "  ('ቡድን', 3),\n",
       "  ('ከለከለ', 3)],\n",
       " 1: [('ዘጋ', 3),\n",
       "  ('መንገድ', 3),\n",
       "  ('ጨበጠ', 3),\n",
       "  ('ድል', 3),\n",
       "  ('ነጻ_ውጥእ', 3),\n",
       "  ('እስክንድር_ነጋ', 3),\n",
       "  ('ዱላ', 3),\n",
       "  ('እልፍ', 3),\n",
       "  ('አእላፉን', 3),\n",
       "  ('መንጋ', 3)],\n",
       " 0: [('ታየ', 3),\n",
       "  ('ፈለገ', 3),\n",
       "  ('ለማ_መገርሳ', 3),\n",
       "  ('ላላ', 3),\n",
       "  ('ውህደት', 3),\n",
       "  ('ደንደአ', 3),\n",
       "  ('ደመረ', 3),\n",
       "  ('መድረክ', 3),\n",
       "  ('“አቶ', 3),\n",
       "  ('እሳቤ', 3)],\n",
       " 7: [('ሱራፌል', 4),\n",
       "  ('ኦሮሞ', 2),\n",
       "  ('መሪ', 2),\n",
       "  ('ተቀመጠ', 2),\n",
       "  ('ጠበቀ', 2),\n",
       "  ('ግንባር', 2),\n",
       "  ('ረባ', 2),\n",
       "  ('ነጻነት', 2),\n",
       "  ('አሻ', 2),\n",
       "  ('ወንድሙ', 2)],\n",
       " 5: []}"
      ]
     },
     "execution_count": 5,
     "metadata": {},
     "output_type": "execute_result"
    }
   ],
   "source": [
    "top_words(gsdmm.cluster_word_distribution, top_index, 10)"
   ]
  },
  {
   "cell_type": "code",
   "execution_count": null,
   "id": "d3b08ff0",
   "metadata": {},
   "outputs": [],
   "source": []
  }
 ],
 "metadata": {
  "kernelspec": {
   "display_name": "Python 3 (ipykernel)",
   "language": "python",
   "name": "python3"
  },
  "language_info": {
   "codemirror_mode": {
    "name": "ipython",
    "version": 3
   },
   "file_extension": ".py",
   "mimetype": "text/x-python",
   "name": "python",
   "nbconvert_exporter": "python",
   "pygments_lexer": "ipython3",
   "version": "3.9.7"
  }
 },
 "nbformat": 4,
 "nbformat_minor": 5
}
