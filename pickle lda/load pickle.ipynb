{
 "cells": [
  {
   "cell_type": "code",
   "execution_count": 1,
   "id": "52bc09b7",
   "metadata": {},
   "outputs": [
    {
     "name": "stdout",
     "output_type": "stream",
     "text": [
      "\n",
      "@@@@ This is HornMorpho, version 4.0.5 @@@@\n",
      "\n",
      "Connecting to wss://anvil.works/uplink\n",
      "Anvil websocket open\n",
      "Connected to \"Default environment\" as SERVER\n"
     ]
    }
   ],
   "source": [
    "import pickle\n",
    "import pandas as pd\n",
    "import gensim\n",
    "import anvil.server\n",
    "import hm\n",
    "anvil.server.connect(\"4JBRYQ2MUR7HBKUJXDUBIWZK-2VXDJRROQ3VSPBLR\")\n",
    "\n",
    "my_root=pd.read_csv('C:/Users/Kois/lemmatizedCorpus.csv') #Lemmatized tokens\n",
    "my_root=my_root.drop(['Unnamed: 0.1'], axis = 1)\n",
    "my_root=my_root.drop(['Unnamed: 0'], axis = 1)\n",
    "my_root=my_root.to_numpy().tolist()\n",
    "\n",
    "def clean_nan(my_root):\n",
    "    new_list=[]\n",
    "    temp_list=[]\n",
    "    for x in my_root:\n",
    "        for item in x:\n",
    "            if str(item) != 'nan':\n",
    "                temp_list.append(item)\n",
    "        new_list.append(temp_list)\n",
    "        temp_list=[]\n",
    "    return new_list\n",
    "\n",
    "stop_words=['እኔ', 'የእኔ', 'እኔራሤ', 'እኛ', 'የእኛ', 'እኛራሣችን', 'አንቺ', 'ነህ', 'አላችሁ', 'እርሥዎ', 'ትፈልጋለህ', 'ያንተ', 'ራሥህን', 'እራሣችሁ', 'እሡ', 'የእሡ',\n",
    " 'ራሡ', 'እሷ', 'እሷናት', 'የእሷ', 'እራሷ', 'ነው', 'እነሡ', 'እነሡን', 'የእነሡ', 'ራሣቸው', 'ምንድን', 'የትኛው', 'ማን', 'ይህ', 'የሚልነው', 'ያ', 'እነዚህ', 'እነዚያ', 'ነኝ', 'ናቸው', 'ነበር', 'ነበሩ', 'ሁን', 'ቆይቷል', 'መሆን',\n",
    " 'አላቸው', 'አለው', 'ነበረው', 'ያለው', 'መሥራት', 'ያደርጋል', 'አደረገ', 'ማድረግ', 'ሀ', 'አንድ', 'የ', 'እና', 'ከሆነ', 'ወይም', 'ምክንያቱም',\n",
    " 'እንደ', 'እሥከ', 'እያለ', 'በ', 'ለ', 'ጋር', 'ሥለ', 'ላይ', 'መካከል', 'ወደ', 'በኩል', 'ወቅት', 'ከዚህበፊት', 'በኋላ', 'ከላይ', 'ከታች', 'ከ', 'ወደላይ', 'ታች', 'ውሥጥ', 'ውጭ', 'በላይ',\n",
    " 'እንደገና', 'ተጨማሪ', 'ከዚያ', 'አንድጊዜ', 'እዚህ', 'እዚያ', 'መቼ', 'የት', 'ለምን', 'እንዴት', 'ሁሉም', 'ማንኛውም', 'ሁለቱም', 'እያንዳንዳቸው', 'ጥቂቶች', 'በጣም', 'ሌላ', 'አንዳንድ',\n",
    " 'እንደዚህ', 'ብቻ', 'የራሡ', 'ተመሣሣይ', 'ሥለዚህ', 'ይልቅ', 'እንዲሁ', 'ት', 'ይችላል', 'ይገባል', 'ይገባኛል', 'አሁን', 'መ', 'ም', 'ኦ', 'ዳግም',\n",
    " 'መሆን', 'ሁለ', 'ሁለም', 'ህዝብ', 'ሀሙሥ', 'ለመሆኑ', 'ለምንድን', 'ሌሎች', 'መጽሀፍ', 'ማክሠኞ', 'ምን', 'ሠኞ', 'ሠው', 'ሢሆን', 'ሥንት', 'ረቡእ',\n",
    " 'ቅዳሜ', 'በዚህ', 'ብላ', 'ነገር', 'አለ', 'አርብ', 'አንተ', 'አንዳንድ', 'ኢትዮጵያ', 'እሁድ', 'እናንተ', 'እንኳን', 'እግር', 'ከመሆን', 'ወይንም', 'ዋና', 'ዘንድ', 'የሚከተለው', 'ያኔ', 'ይኼው', 'ገጽ', 'እነርሡ',\n",
    " 'ን', 'ና', 'ዎች', 'ይጠበቃል', 'ብለዋል', 'ሆ', 'ሁሉ', 'አንቀጽ', 'እንደሆነ', 'በማይበልጥ', 'መሠረት', 'ሁኔታ', 'ይሆናል', 'ሆኖ', 'ከአንድ', 'በማናቸውም',\n",
    " 'ወር', 'ከአምሥት', 'በሆነ', 'ከዚህ', 'የሆነ', 'ሀያ', 'ሆነ', 'በኊላ', 'በአንድ', 'የሆኑ', 'ከአሥራ', 'የሆነውን', 'መሆኑ', 'ሌላውን', 'ከሠባት', 'ለሌላ',\n",
    " 'አለበት', 'ሢል', 'ይሆናሉ', 'በሙሉ', 'አሥራ', 'ቢሆንም', 'አንዱ', 'የሌላውን', 'ከሁለት', 'የሆኑትን', 'በሆኑ', 'ጀምሮ', 'በመሆን', 'ባለ', 'ይህንን', 'እንዲቆይ', 'ሌላው', 'የሚሆነው', 'በአንዱ', 'ሢባል', 'ሣለ', 'የሆነው', 'መሆናቸው', 'በዋና', 'በማቀድ', 'ጊዜና', 'ለዚህ', 'ሦሥተኛ', 'የነገሩ', 'ሥድሥት', 'በሆነው', 'ይሁን', 'ከዚሁ', 'በእነዚህ', 'ከማናቸውም', 'ከነበረው',\n",
    " 'በአንዳንድ', 'በእያንዳንዱ', 'ጊዜም', 'አሥከ', 'የሌሎች', 'የሚሆኑት', 'ከሆነው', 'የነበረውን', 'ያሉ', 'ከሌሎች', 'አንዲት', 'ለሌሎች', 'ለሆነው', 'ሠኣት', 'ብሎ', 'ከሠላሣ',\n",
    " 'የሚሆኑ', 'ላይም', 'የሆናል', 'ከነዚህ', 'ያህል', 'ከሆነና', 'ለሆኑት', 'እነዚሁ', 'እንደሆኑ', 'ሥለማናቸውም', 'ሥለዚሁ', 'ከአንዳንድ',\n",
    " 'በእነዚሁ', 'በአምሥት', 'የሆኑበታል', 'ለነዚህ', 'ለማንኛውም', 'አንደኛ', 'ይኸኛው', 'ከርሡ', 'መሆኑን', 'ለዚያው', 'ለዚሁ', 'ለእነርሡም', 'እዚሁ', 'ሀ', 'ረ', 'ሸ', 'አምሥት',\n",
    " 'ከሦሥት', 'በተለይም', 'በሌላ', 'ሺህ', 'ማናቸውንም', 'ከአሥር', 'የማይበልጥ', 'እንዲሁም', 'ይህን', 'የዚህ', 'ማናቸውም', 'ከሥድሥት', 'መቶ', 'ያለ', 'አንድን',\n",
    " 'ያላቸውን', 'ሊሆን', 'ሦሥት', 'ካልሆነ', 'ቢያንሥ', 'ቢሆን', 'እነዚህን', 'አንዱን', 'ሁለት', 'ወይዘሮ', 'ተብሎ', 'ሣይሆን', 'እንደሆነና', 'ከብር', 'ሆኖም', 'የነበሩ',\n",
    " 'የሌላ', 'ያላቸው', 'ይህንኑ', 'ሆነው', 'በሥተቀር', 'ሥም', 'እንደገና', 'የማያንሥ', 'እጅግ', 'እንዲሆን', 'እንኳ', 'ከሀያ', 'ከሀምሣ', 'ይኸው', 'ለአንድ', 'የሚችለውን',\n",
    " 'በሚገባ', 'ይህም', 'እንዲሆኑ', 'ከሌላ', 'ለሆነ', 'በሌሎች', 'አንደሆነ', 'እንዲህ', 'በነዚሁ', 'በእንደዚህ', 'ሥምንት', 'ሢሆንና', 'ምንጊዜም', 'ለማናቸውም', 'የአንድ', 'እነዚህኑ', 'ሢሆኑ', 'በሁለቱም',\n",
    " 'እንደነዚህ', 'የሆኑት', 'የማናቸውም', 'ይህንንም', 'የአንድን', 'በሙሉም', 'በነዚህ', 'የዚሁ', 'ለእያንዳንዱ', 'ሥለሆነ', 'መሆናቸውን', 'ማንኛውንም', 'ሁለቱ', 'እንጂ',\n",
    " 'ከሥምንት', 'ሁለቱንም', 'በሁለት', 'በእሥር', 'በሚል', 'ቁጥር', 'ባሉ', 'ከመቶ', 'እነዚህም', 'ሢኖር', 'ሠላሣ', 'ለሆኑ', 'ሠባት', 'እነደሆነ', 'ይህችው', 'ከእነዚህ',\n",
    " 'ከእነዚሁ', 'የአንቀጹ', 'ወይ', 'የሆነችን']\n",
    "\n",
    "def stopWordRemoval(tokens):\n",
    "    token_new=[]\n",
    "    for x in tokens:\n",
    "        if x not in stop_words:\n",
    "            token_new.append(x)\n",
    "    \n",
    "    return token_new\n",
    "\n",
    "\n",
    "def build_stopWord_free_corpus(new_list):\n",
    "    processed_docs=[]\n",
    "    for item in new_list:\n",
    "        processed_docs.append(stopWordRemoval(item))\n",
    "    \n",
    "    return processed_docs\n",
    "\n",
    "\n",
    "def remove_verbs(processed_docs):\n",
    "    listOfVerbs=\"ተሰለፈ,ድርግ,ሰጠ,ገባ,አወቀ,መሰለ,መጣ,ጠማ,ነደደ,ወጣ,ለየ,ጣለ,ነዳ,ኖረ,ተከለ,ፈለገ,ወሰነ,ቻለ,ተገኛኘ,መታ,ሰረረ,ባከነ,አነሰ,ደገመ,ያዘ,አነሳ,አለቀ,አስቀመጠ,ለበሰ,ላከ,አወገዘ,አካሄደ,ገደለ,አለፈ,ቀረረ,ለቀቀ,ለመጠ,ጀመረ,ተናገረ,ገመተ,ዶለ,ፈጠረ,ሰቀቀ,ፈጸመ,ቀረ,አየ,ቈየ,ዘገበ,በላ,ተባለ,ፈላ,ቀነተ,ፈታ,ሞተ,ገለጸ,ገለጠ,ደበነ,ሰደደ,ጐለተ,ተቈጣ,ማረ,አፈረ,ዘረዘረ,ጠበቀ,ተወ,መረጠ,ተቀበለ,ተመቸ,ደረደረ,ተመለከተ,ጨፈነ,ዞረ,ዠለጠ,ነፈሰ,ተሸነፈ,አማ,ረጋ,ተቃወመ,ቀየረ,አለመ,ገገረ,ቀለለ,ተዘጋጀ,ዋለ,ቆመ,ተላለፈ,ቀነበረ,ጨረሰ,ቋጠረ,ተሰራጨ,አራ,ሾመ,ስምር,ተራመደ,ቀፈፈ,ተቋቋመ,ረገበ,ሰከረ,ለቀለቀ,ታገለ,አጐነበሰ,አሰረ,ረገጠ,ተጠረጠረ,ነካ,ተነሳ,አበለ,ጠቀመ,አረገ,ጠፋ,ወደቀ,ነዛ,ደረሰመ,ገረረ,ቀጠፈ,ረሳ,ፈጀ,ሰለቸ,ለወጠ,ደከመ,ሄደ,ሰደበ,ቀላ,ቀረጸ,ፎከረ,ወቀረ,ተማረ,ወለደ,ሳበ,ሰራ,ቀደሰ,አደረ,ለመደ,ተረጐመ,ሰፈነ,ፈነጠቀ,ቀለደ,ገበየ,ወቃ,አመሰ,አጣ,ዘፈነ,ተደረገ,ወሰደ,ነጐደ,ቀቀለ,አናገረ,በሳ,መጠነ,ተካሄደ,ተንጠባጠበ,ረዘመ,መከረ,መሰከረ,ከለከለ,ፈራ,ወደደ,ደገፈ,ተጫወተ,ለመለመ,ተሰቃየ,ዘና,ተሸበረ,ገነባ,ጨበጨበ,ቈረቈረ,ቈረጠ,ጨቈነ,ቀረበ,ተሳበ,ሸጠ,ገዛ,ላላ,ባሰ,ተቀመጠ,ቀጠለ,ደፈነ,ተመለከ,ቀደመ,ፈሳ,ተመኘ,ነቃ,መጠጠ,ሮጠ,ተመካ,ቀደደ,ተከተለ,ተወራ,ናደ,ቀጣ,ገታ,ቀሰቀሰ,ተሻገረ,ጠየቀ,ፋቀ,ጣረ,ተደሰተ,ለመነ,ወተወተ,ቀማ,በጠበጠ,ዋጠ,ተከበረ,ቸገረ,ተቀየመ,ተጠቃ,አረመ,ዘረፈ,ጠራ,ሳቀ,አስተማረ,ጠረገ,አመጠ,ተያያዘ,ጻፈ,ገረመ,አከከ,ደረቀ,ተንበረከከ,ተለጐመ,ከሳ,ተጨነቀ,ዋሸ,ተታለለ,ሰፈረ,ፈተነ,በረከተ,ተከላከለ,ተሳተፈ,ገፋ,ተመሰገነ,ሰለጠነ,ተንቀሳቀሰ,ተወዳጀ,ጨፈረ,ተመጻደቀ,ተባበረ,ጠነከረ,ተቀዳጀ,ተንፈረጠጠ,ጠቀሰ,ቈጠረ,ዘረጋ,ጠቀለለ,ባረከ,ሳተ,ሸረሞጠ,ላጠ,ዳጠ,ነጠቀ,ተከናወነ,ላገ,በደለ,ጨበጠ,ዘጋ,ጨቀጨቀ,ላፈ,ነሳ,ወረረ,ዳነ,ዘከዘከ,አቀደ,ተገለገለ,ተመነ,አመመ,ገጠመ,ተመረኰዘ,ተዳረሰ,ታጠቀ,አፈነ,ተንከባከበ,ኰነነ,ተቃጠለ,አረደ,ፈረሰ,ተደራጀ,ጠለዘ,ቀረጠፈ,ተዘናጋ,ሻ,ከሰሰ,ረገመ,ተገደደ,ተጨናነቀ,ጠረቀመ,ቀነሰ,ረካ,ዳበረ,ጐለበተ,አለበ,ወረወረ,ጨፈለቀ,ተኛ,ደበቀ,ቈረጠመ,መዘገበ,ላመ,ወከለ,ነቀለ,ኰሳ,ሸለለ,አሸ,ጠዳ,ተተራመሰ,ዘመተ,ጸደቀ,ከተመ,ሰካ,ታወረ,ተሳካ,ነጣ,አገዘ,ገደበ,ተሳሳተ,ለፋ,ተበላሸ,ሸመቀ,ናፈቀ,ሰበሰበ,ጠለፈ,ተከፋ,ተሻሻለ,ከሰመ,ፈቀደ,ተጋ,ጐደለ,ቈጨ,ነባ,አስቻለ,በረረ,ከፈተ,አለለ,ጠመመ,ወጠረ,ገበረ,ታታ,ገለበጠ,ሸመገለ,ደነበረ,ተደናቀፈ,ሰላ,መረረ,ጠቈመ,ጋበዘ,ቀበረ,ጫነ,ናቀ,ሰወረ,ቀሰረ,ተቸ,መረመረ,መዘነ,ወደመ,ተወዳደረ,ተከባበረ,ተዳደረ,ተሰኘ,ጋረጠ,ፈሰሰ,ገነዘ,አደለ,አሸገ,ደፋ,ጸለየ,ደወለ,ጠጣ,ተጠጋ,ዳመጠ,መሰገ,ቀላቀለ,ማለ,ዘመረ,ሰየመ,ጣሰ,ለቀመ,አከፋፈለ,ጸነነ,በጠሰ,ጣፈ,ታወሰ,አለቀሰ,አበደ,ዘራ,አጨደ,ተጨማለቀ,ጮኸ,ከሰከሰ,መሸ,ታበየ,ጋረ,ማረረ,አጽናና,ተግባባ,መነጨ,አጠበ,ረጨ,ለፈለፈ,አደሰ,ሞገተ,አቻለ,ወረሰ,ሞከረ,ተሳነ,ወፈረ,ተከዘ,ነከሰ,አረረ,ተዛዘበ,ሸተተ,ፈነቀለ,ወቀሰ,ሳሳ,ዘነጋ,ገራ,ተበጀ,ካሰ,ደነዘዘ,ረበረበ,ጸዳ,ተከታተለ,ተገነዘበ,አዘነበለ,ተወሀደ,ራቀ,ዘነነ,ገጨ,ከተበ,ሸረሸረ,አለቃቀሰ,ተነገረ,ተላላከ,ቀዳ,ጠባ,ፈነዳ,ተወናበደ,ተስተካከለ,ጠበበ,ቈሸሸ,ተጠነቀቀ,ደነገጠ,ተጓዘ,አቀፈ,መገበ,ፈካ,ፈወሰ,ሻረ,ዛለ,ተከራየ,አስተዋለ,ጠበሰ,ተኰሰ,ተጠና,ተነፈሰ,በተነ,ቈፈረ,ጠረበ,ተደመመ,ዘቀጠ,ተዋከበ,ቃመ,ናወዘ,ተልከሰከሰ,አርጋጋ,ተሽከረከረ,ተለተመ,ተጣደፈ,ዋተተ,ተገለለ,ዶለተ,ነፈገ,ተጠናቀቀ,በሰለ,ደመደመ,አከተ,ሰጋ,ማረከ,በረቀ,ቈለለ,ማቀቀ,ተወገደ,ተኰላሸ,ዋጀ,ተረተ,ተስማማ,ረባ,ፈጠጠ,ፋረ,ሰነጠቀ,ደበደበ,ደፈረሰ,ተጠናወተ,ቀሰመ,ኰላ,አጠፈ,ጣመ,አፈሰ,ነፋ,ረፈደ,ተዋረደ,ሰነዘረ,ተቋረጠ,አወጋ,ተንጠለጠለ,አረሰ,ከለበ,ተከራከረ,ፈተሸ,አተመ,ቈሰለ,ተደለደለ,ገመገመ,ተነጻጸረ,ተዋወቀ,ተሸከመ,አረቀ,አገደ,ተቻቻለ,ሰመጠ,ወጋ,ተደመጠ,ፈለፈለ,ጨከነ,ከተተ,ዘባረቀ,መረተ,አመለጠ,ነከተ,ተመቻቸ,ሸፈነ,ጠመዘዘ,ሰበረ,ሰረቀ,ወለቀ,አነበበ,ገረፈ,መረቀ,አጠረ,ተምታታ,ሰበከ,ዳረ,ሰዋ,ለኰሰ,ተካረረ,አደነ,ራሰ,ቀረፈ,ሰለመ,ጠነባ,ሰገደ,ጐበኘ,ከረፋ,አኘከ,ወነጀለ,ተጣመረ,ጓጓ,ዘነጠ,ደበለቀ,ፈዘዘ,አጀበ,ከተፈ,መደበ,ቀጠረ,ተለማመጠ,ተበደረ,ጠፈፈ,ታገሰ,አነቀ,ሰነበተ,ደረተ,ሰቀለ,ደፈረ,ዘለፈ,ጨፈጨፈ,ረቀቀ,ተነጋገረ,ተከፈፈ,ተሰናበተ,ላሰ,ሰለበ,ዳሰሰ,ራበ,ሸኘ,ቀባጠረ,ተርበተበተ,አመሸ,ተሳለቀ,ቸከ,ገዘገዘ,ዳከረ,ገዘፈ,ጐተተ,ጋጠ,ጾመ,ወቀጠ,ተሞገሰ,ጠገበ,ከጀለ,ተሸቀበ,ረሸነ,ተረከበ,ዘገነነ,ከረከረ,ተሞሸረ,ፈረመ,ሸመተ,ከበተ,አስመለሰ,ፈለጠ,ረበሸ,ደጐመ,ተነጣጠረ,ሰረሰረ,ገላገለ,ተዛመደ,ተጃጃለ,በሰበሰ,ዋለለ,ተበሳጨ,ረጠበ,ተንጨረጨረ,ተረከ,ኰለኰለ,ካነ,አረጠ,ካደ,ወዘወዘ,ረበበ,ተቈጣጠረ,ተጸጸተ,አላመጠ,አካፈለ,ሸመጠጠ,አኰረፈ,ለጠፈ,አወከ,ገነጠለ,ጐነጐነ,ቀለመ,ተለመ,ቈጠበ,ዛገ,ነደለ,ገመደ,ሰገሰገ,ጋረደ,ተጠተተ,መረዘ,ደረገመ,ሸና,ተጸነሰ,ጨነገፈ,አስተናገደ,ሸቀጠ,ነቀነቀ,ተቃረነ,ተመለጠ,ተፋ,አሾፈ,ሸሸ,ጠረዘ,ተበላለጠ,ቀባ,ደለበ,ዋኘ,ፈረጠ,ከለሰ,በረደ,ተሸማቀቀ,ቀጠቀጠ,ሰነገ,ተግደረደረ,ቀየሰ,ጫረ,አነጠሰ,ተዘዋወረ,ተካፈለ,ተጥለቀለቀ,ተጭበረበረ,ሰከነ,ተዘወረ,ተንቀጠቀጠ,ጠመጠመ,ሰረዘ,አስተጋባ,ከሰረ,ጠለቀ,ተንከረፈፈ,ዘመመ,ሞቀ,ዳሰ,ፈነጠረ,ተለቀ,ቀበጠ,ተገናዘበ,ከሸፈ,ተነተነ,ዳረገ,ቃኘ,ገፈፈ,ጃጀ,ሰቀጠጠ,ተፍጨረጨረ,ነደፈ,ጋለ,ተንሳሳ,ደገሰ,ጀገነ,ቀለጠ,ዛተ,መለለ,ተባባለ,ተስፈነጠረ,ጠመደ,አነከሰ,ጠመቀ,ተገመሰ,ለጠቀ,ማገ,ቋጨ,ተዋሰ,ገሰገሰ,ወረፈ,ተቀኘ,ተነኰተ,ቀላወጠ,ሰየፈ,ጨለፈ,ቸረ,ተረተረ,በከለ,ተወላከፈ,አመላከተ,ከለለ,አጐረ,መነመነ,አበሰ,ደገነ,ሰነፈ,ተጠየፈ,ተነገተ,ወገረ,ቻቻለ,ቀጨጨ,ከረከመ,ራደ,ተኰፈሰ,ተነጠለ,ታጨ,ተንጫጫ,ወሰለተ,ወሸቀ,ኰሰመነ,ተነጫነጨ,ዘረገፈ,ተንሳፈፈ,ተፋጨ,ሾለ,ተንፈራፈረ,ጐረበጠ,ጠቈረ,ቀመሰ,ነተበ,ደላ,ፈረጠጠ,ደነቈረ,መነጠረ,ደመሰሰ,ተዛወረ,ሳገ,ተባ,ሻጠ,ሳመ,ኰረጀ,ረከሰ,ቀዘነ,ከሸነ,በዘበዘ,ተፋለመ,ተደለቀ,ተፈናጠጠ,ከካ,ወዛ,ፈነጨ,አጠነ,ዳበሰ,አመራ,ረገፈ,ገለበ,ፈየደ,ተራቈተ,ጐሰቈለ,ሸቀለ,ሰበቀ,ተቅነዘነዘ,ሰለቀ,ለዘበ,ደሰመ,አሴረ,ተጋዘ,ለሰለሰ,ቀሰፈ,ተንከራተተ,ማገደ,ፈነከተ,ዘላበደ,ዘበዘበ,ተንደላቀቀ,ተደረሰ,ሸረፈ,ተቅለሰለሰ,ተላከከ,ተሻማ,ደፈቀ,ነጠረ,ዘረረ,ደለለ,ተቀጣጠለ,ተውተረተረ,ጐረፈ,ተደረበ,ቸለሰ,ተንደረደረ,ተናጠ,ተከማቸ,ፈተፈተ,ተንሸራተተ,ቀጠነ,ተትረፈረፈ,ኳለ,ጨለመ,ነፈረ,ከሰለ,ተፋጀ,ተዳበለ,ወጠነ,አጋመሰ,ለበለበ,ሸመቀቀ,ተካተተ,ተዋበ,አከመ,ኰረፈ,በገነ,ደበዘዘ,ጠበጠበ,ተቃቃመ,ጋመ,መነዘረ,ዘየደ,ወረዛ,ቀነጠሰ,ነቀሰ,ተገዘተ,ተረባረበ,ጐበዘ,ለጠጠ,ደደበ,ተንጣለለ,ተንቀለቀለ,ሰጠመ,ታከከ,ተቈራ,ጠገነ,ቦረቀ,ከተከተ,ተሽኰረመመ,አመለከተ,ተቀለበ,ለሰነ,ተቈራኘ,ሞገደ,ፈነደቀ,መሰነ,ተዝረከረከ,ሸመደደ,ተንበለበለ,ዘበተ,ቦዘ,ገነፈለ,ነቀፈ,ተጸየፈ,ተደላደለ,ደሰሰ,ነዘረ,ሳለ,ቀዘቀዘ,ነዘነዘ,ደደረ,ተበጠረ,ባተ,ተመሳቀለ,አጠራጠረ,ገነገነ,ነከረ,ተሳደደ,አለጠ,ደቀደቀ,መተረ\"\n",
    "    listOfVerbs=listOfVerbs.split(\",\")\n",
    "    no_verb=[]\n",
    "    verb_set=set(listOfVerbs)\n",
    "\n",
    "    for item in processed_docs:\n",
    "        item_set=set(item)\n",
    "        no_verb.append(list(item_set.difference(verb_set)))\n",
    "    \n",
    "    return no_verb\n",
    "\n",
    "def remove_new_verbs(list_of_terms):\n",
    "    no_verbs=[]\n",
    "    for item in list_of_terms:\n",
    "        try:\n",
    "            y=hm.anal('amh',item,um=True)\n",
    "            if y[0]['POS']!='v':\n",
    "                no_verbs.append(item)\n",
    "        except:\n",
    "            no_verbs.append(item)\n",
    "    return no_verbs\n",
    "\n",
    "new_list=clean_nan(my_root)\n",
    "processed_docs=build_stopWord_free_corpus(new_list)\n",
    "processed_docs=remove_verbs(processed_docs)\n",
    "\n",
    "dictionary = gensim.corpora.Dictionary(processed_docs)\n",
    "dictionary.filter_extremes(no_below=5, no_above=0.5, keep_n=100000)\n",
    "corpus = [dictionary.doc2bow(doc) for doc in processed_docs]\n",
    "\n"
   ]
  },
  {
   "cell_type": "code",
   "execution_count": null,
   "id": "bddb776c",
   "metadata": {},
   "outputs": [],
   "source": [
    "@anvil.server.callable\n",
    "def extract_target_lda(text):\n",
    "    list_of_terms=text.split(\" \")\n",
    "    list_of_terms=stopWordRemoval(list_of_terms)\n",
    "    list_of_terms=remove_new_verbs(list_of_terms)\n",
    "    \n",
    "    ldamodel = pickle.load(open('C:/Users/Kois/LDA_Code/LDA_Code/pickle lda/LDA_k20_a10_b0_c0.4707876629910356.pkl', 'rb'))\n",
    "    predictions=ldamodel.get_document_topics(dictionary.doc2bow (list_of_terms))\n",
    "    top_topic=sorted(predictions, key=lambda t:t[1], reverse=True)\n",
    "    t=top_topic[0:1]\n",
    "    top_topic_id=t[0][0]\n",
    "    if t[0][1]>=0.05:\n",
    "        return(ldamodel.print_topics()[top_topic_id])\n",
    "    else:\n",
    "        return 0"
   ]
  },
  {
   "cell_type": "code",
   "execution_count": null,
   "id": "3b78d3fd",
   "metadata": {},
   "outputs": [],
   "source": [
    "extract_target_lda(\"መሪ ልክ ቦታ ትምህርት ተሻለ\")"
   ]
  },
  {
   "cell_type": "markdown",
   "id": "7aa21111",
   "metadata": {},
   "source": [
    "text=\"ሞጣ በደረሰው አደጋ አዝኛለው\"\n",
    "list_of_terms=text.split(\" \")\n",
    "list_of_terms=stopWordRemoval(list_of_terms)\n",
    "list_of_terms=remove_new_verbs(list_of_terms)\n",
    "\n",
    "ldamodel = pickle.load(open('LDA_k20_a10_b0_c0.4707876629910356.pkl', 'rb'))\n",
    "predictions=ldamodel.get_document_topics(dictionary.doc2bow (list_of_terms))\n",
    "top_topic=sorted(predictions, key=lambda t:t[1], reverse=True)\n",
    "t=top_topic[0:1]\n",
    "for idx, topic in ldamodel.print_topics(-1):\n",
    "    if idx ==t[0][0]:\n",
    "        print(topic)"
   ]
  },
  {
   "cell_type": "code",
   "execution_count": 2,
   "id": "09426a0b",
   "metadata": {},
   "outputs": [
    {
     "name": "stdout",
     "output_type": "stream",
     "text": [
      "Topic: 0 \n",
      "Words: 0.109*\"ሰላም\" + 0.082*\"ብልጽግና\" + 0.054*\"ፍቅር\" + 0.054*\"ጥያቄ\" + 0.052*\"መለሰ\" + 0.040*\"አብይ\" + 0.029*\"ምክንያት\" + 0.023*\"ጀግና\" + 0.019*\"ፎቶ\" + 0.019*\"ህወሀት\"\n",
      "Topic: 1 \n",
      "Words: 0.089*\"አመት\" + 0.078*\"ቀን\" + 0.058*\"ገና\" + 0.043*\"ከበረ\" + 0.037*\"ሀይል\" + 0.036*\"በቃ\" + 0.034*\"አሉ\" + 0.025*\"ልደት\" + 0.025*\"ለውጥ\" + 0.024*\"ደም\"\n",
      "Topic: 2 \n",
      "Words: 0.113*\"መንግስት\" + 0.088*\"ዛሬ\" + 0.068*\"ፓርቲ\" + 0.064*\"መራ\" + 0.043*\"አገር\" + 0.031*\"ዝም\" + 0.023*\"ስርአት\" + 0.023*\"ድምጽ\" + 0.021*\"መብት\" + 0.020*\"ስብሰባ\"\n",
      "Topic: 3 \n",
      "Words: 0.114*\"ደረሰ\" + 0.058*\"አዲስ\" + 0.050*\"ዘመን\" + 0.043*\"አባት\" + 0.041*\"አለም\" + 0.041*\"ሰአት\" + 0.036*\"መሪ\" + 0.032*\"ነጻ\" + 0.027*\"መረጃ\" + 0.025*\"አሜሪካ\"\n",
      "Topic: 4 \n",
      "Words: 0.110*\"አማራ\" + 0.109*\"ተገኘ\" + 0.086*\"ክልል\" + 0.051*\"ሙስሊም\" + 0.040*\"ከፈለ\" + 0.039*\"ተቻለ\" + 0.032*\"ድርጅት\" + 0.029*\"ትንሽ\" + 0.024*\"ሞጣ\" + 0.019*\"ሙሉ\"\n",
      "Topic: 5 \n",
      "Words: 0.054*\"ሰው\" + 0.049*\"ህግ\" + 0.045*\"ቦታ\" + 0.042*\"እውነት\" + 0.033*\"ትልቅ\" + 0.029*\"ክብር\" + 0.029*\"ህጻን\" + 0.027*\"ወያኔ\" + 0.024*\"ንብረት\" + 0.022*\"ሞላ\"\n",
      "Topic: 6 \n",
      "Words: 0.080*\"ለም\" + 0.068*\"ልብ\" + 0.046*\"ግልጽ\" + 0.040*\"በለጠ\" + 0.030*\"ድሮ\" + 0.026*\"ቀላል\" + 0.026*\"ትክክል\" + 0.023*\"ግድ\" + 0.021*\"ትናንት\" + 0.021*\"ስሜት\"\n",
      "Topic: 7 \n",
      "Words: 0.048*\"ግኝ*\" + 0.040*\"ትምህርት\" + 0.037*\"ከፍተኛ\" + 0.031*\"ደረጃ\" + 0.030*\"ታህሳስ\" + 0.028*\"ብር\" + 0.025*\"ዩኒቨርሲቲ\" + 0.023*\"ምግብ\" + 0.023*\"ወለጋ\" + 0.021*\"ቡድን\"\n",
      "Topic: 8 \n",
      "Words: 0.097*\"ቤት\" + 0.073*\"ከተማ\" + 0.041*\"ታሪክ\" + 0.038*\"መንገድ\" + 0.023*\"እስክንድር\" + 0.023*\"ደህና\" + 0.021*\"አዲስ_አበባ\" + 0.020*\"እድሜ\" + 0.020*\"አካባቢ\" + 0.020*\"ፍርድ\"\n",
      "Topic: 9 \n",
      "Words: 0.083*\"ጊዜ\" + 0.055*\"ረዳ\" + 0.054*\"ጥር\" + 0.033*\"ውይይት\" + 0.024*\"ባህል\" + 0.022*\"አዲ\" + 0.021*\"አበባ\" + 0.020*\"በቀለ\" + 0.017*\"አይ\" + 0.017*\"ዙሪያ\"\n",
      "Topic: 10 \n",
      "Words: 0.122*\"ልጅ\" + 0.072*\"እግዚአብሄር\" + 0.057*\"ተስፋ\" + 0.037*\"ጌታ\" + 0.033*\"ቅዱስ\" + 0.026*\"ሆይ\" + 0.024*\"ወንድ\" + 0.024*\"ደህንነት\" + 0.020*\"ዶር\" + 0.020*\"ጸጋ\"\n",
      "Topic: 11 \n",
      "Words: 0.073*\"አሰበ\" + 0.054*\"ህይወት\" + 0.046*\"ቃል\" + 0.039*\"ብይ\" + 0.031*\"ሴት\" + 0.028*\"ተግባር\" + 0.022*\"እለት\" + 0.019*\"እርምጃ\" + 0.018*\"ልማት\" + 0.017*\"አካል\"\n",
      "Topic: 12 \n",
      "Words: 0.176*\"ሀገር\" + 0.086*\"ራስ\" + 0.072*\"ፊት\" + 0.069*\"ጉዳይ\" + 0.051*\"ውነት\" + 0.031*\"በዛ\" + 0.029*\"ወረደ\" + 0.020*\"ዲሞክራሲ\" + 0.017*\"አይን\" + 0.014*\"ግራ\"\n",
      "Topic: 13 \n",
      "Words: 0.050*\"ድል\" + 0.044*\"አዘነ\" + 0.038*\"አማርኛ\" + 0.034*\"አምላክ\" + 0.031*\"ጥቅም\" + 0.030*\"ፖለቲከኛ\" + 0.028*\"መሬት\" + 0.028*\"ከበበ\" + 0.025*\"ከባድ\" + 0.024*\"ግል\"\n",
      "Topic: 14 \n",
      "Words: 0.044*\"እናት\" + 0.040*\"ስልጣን\" + 0.039*\"አቶ\" + 0.038*\"ዜና\" + 0.037*\"ዜጋ\" + 0.033*\"ይሄን\" + 0.029*\"መልእክት\" + 0.028*\"መሰረተ\" + 0.026*\"ሀላፊነት\" + 0.023*\"አይደል\"\n",
      "Topic: 15 \n",
      "Words: 0.092*\"ምርጫ\" + 0.092*\"ብዙ\" + 0.065*\"መልካም\" + 0.045*\"ይሄ\" + 0.044*\"አመነ\" + 0.029*\"መልካ\" + 0.024*\"ክፉ\" + 0.018*\"ውድ\" + 0.018*\"ምርጥ\" + 0.018*\"ጨዋታ\"\n",
      "Topic: 16 \n",
      "Words: 0.062*\"ኢትዮጵያዊ\" + 0.054*\"ደሞ\" + 0.041*\"ጨመረ\" + 0.029*\"ዛር\" + 0.025*\"አህመድ\" + 0.025*\"አቢይ\" + 0.023*\"ጠላ\" + 0.022*\"ወጥ\" + 0.021*\"ሚኒስቴር\" + 0.020*\"ጠላት\"\n",
      "Topic: 17 \n",
      "Words: 0.085*\"አይነት\" + 0.074*\"ፖለቲካ\" + 0.051*\"ነገረ\" + 0.047*\"አበረ\" + 0.037*\"ብሄር\" + 0.034*\"ዋጋ\" + 0.034*\"ቤተሰብ\" + 0.027*\"ውጥእ\" + 0.024*\"ውሸት\" + 0.021*\"ጋዜጠኛ\"\n",
      "Topic: 18 \n",
      "Words: 0.096*\"ስራ\" + 0.071*\"ችግር\" + 0.059*\"ኦሮሞ\" + 0.055*\"አል\" + 0.046*\"ጥሩ\" + 0.032*\"ወጣት\" + 0.023*\"ምሳሌ\" + 0.022*\"ቀና\" + 0.018*\"ንግግር\" + 0.017*\"ፖሊስ\"\n",
      "Topic: 19 \n",
      "Words: 0.132*\"ሰማ\" + 0.071*\"ሀሳብ\" + 0.050*\"ልክ\" + 0.049*\"እጅ\" + 0.045*\"ተሻለ\" + 0.043*\"አደገ\" + 0.036*\"አሜን\" + 0.036*\"ነገ\" + 0.033*\"እቃ\" + 0.031*\"ትግራይ\"\n"
     ]
    }
   ],
   "source": [
    "\n",
    "ldamodel = pickle.load(open('LDA_k20_a4_b1_c0.47855140175765654.pkl', 'rb'))\n",
    "            \n",
    "for idx, topic in ldamodel.print_topics(-1):\n",
    "    print('Topic: {} \\nWords: {}'.format(idx, topic))"
   ]
  },
  {
   "cell_type": "markdown",
   "id": "8578a062",
   "metadata": {},
   "source": [
    "topic_id=[]\n",
    "for i in t:\n",
    "    topic_id.append(i[0])\n",
    "for idx, topic in ldamodel.print_topics(-1):\n",
    "    if idx in topic_id:\n",
    "        print(topic)"
   ]
  },
  {
   "cell_type": "markdown",
   "id": "ca98659f",
   "metadata": {},
   "source": [
    "ldamodel = pickle.load(open('LDA_k20_a10_b0_c0.4707876629910356.pkl', 'rb'))\n",
    "t=ldamodel.get_document_topics(dictionary.doc2bow (['አይነት','አገር','ጠላት']))\n",
    "t=sorted(t, key=lambda t:t[1], reverse=True)\n",
    "t=t[0:1]"
   ]
  },
  {
   "cell_type": "markdown",
   "id": "c69cdda8",
   "metadata": {},
   "source": [
    "ldamodel.get_document_topics(dictionary.doc2bow (['አይነት','አገር','ወደደ','ጠላት','ወደደ','ድርግ','ጠላት','ፈለገ','እርግፍ','ድርግ','ስብእና','ፈጠረ','ገነባ','ማንነት','ደረደረ','ጠነከረ','ሰራ','ተጋላጭነት','ቀነሰ','ተቻለ','አየ','ጉዳይ','አዋጭነቱ','ነዉ']))"
   ]
  },
  {
   "cell_type": "code",
   "execution_count": null,
   "id": "71bee1f7",
   "metadata": {},
   "outputs": [],
   "source": [
    "# dictionary.doc2bow (['አብቹ','ለለውጥ','ምሳሌ','መሪ','ደግሞ','የሁላችንም','ሜዳ','ገብቶ','መጫወት','የሚፈልግ','ሂደት','ሁላችንም','የመሪያችንን','መልካም','ተግባራት','ተከትለን','ለሃገራችን','ብልጽግና','እንስራ'])\n",
    "# dictionary.doc2bow (['“በመወለዱ','ብዙዎች','ደስ','ይላቸዋል”','ሉቃስ','ቅዱስ','ደግ','አቡነ','ተክለሃይማኖት','ታህሳስ','ተወለዱ','አባታችን','ረድኤታቸው','በረከታቸው','አማላጅነታቸው','አይለየን','ፈጣሪ','ሆይ','ህዝቦቿን','በቸርነትህ','ይጠብቅልን'])"
   ]
  },
  {
   "cell_type": "markdown",
   "id": "4ba9edba",
   "metadata": {},
   "source": [
    "topic_probability=ldamodel.get_document_topics([(80, 1), (146, 1), (164, 1), (180, 1), (249, 1), (252, 1), (357, 1), (468, 1), (601, 1), (874, 1), (1700, 1)])\n",
    "topic_probability"
   ]
  },
  {
   "cell_type": "markdown",
   "id": "445b8d50",
   "metadata": {},
   "source": [
    "###"
   ]
  },
  {
   "cell_type": "code",
   "execution_count": null,
   "id": "55c3c8d8",
   "metadata": {},
   "outputs": [],
   "source": []
  },
  {
   "cell_type": "code",
   "execution_count": null,
   "id": "c50a42d8",
   "metadata": {},
   "outputs": [],
   "source": []
  },
  {
   "cell_type": "code",
   "execution_count": null,
   "id": "27bf17e4",
   "metadata": {},
   "outputs": [],
   "source": []
  },
  {
   "cell_type": "code",
   "execution_count": null,
   "id": "edcbf127",
   "metadata": {},
   "outputs": [],
   "source": []
  },
  {
   "cell_type": "code",
   "execution_count": null,
   "id": "7bf6341c",
   "metadata": {},
   "outputs": [],
   "source": []
  },
  {
   "cell_type": "code",
   "execution_count": null,
   "id": "14e937df",
   "metadata": {},
   "outputs": [],
   "source": []
  },
  {
   "cell_type": "code",
   "execution_count": null,
   "id": "2711cd20",
   "metadata": {},
   "outputs": [],
   "source": []
  },
  {
   "cell_type": "code",
   "execution_count": null,
   "id": "dd2dcc58",
   "metadata": {},
   "outputs": [],
   "source": []
  },
  {
   "cell_type": "code",
   "execution_count": null,
   "id": "fbd90e1e",
   "metadata": {},
   "outputs": [],
   "source": []
  },
  {
   "cell_type": "code",
   "execution_count": null,
   "id": "ccdccef0",
   "metadata": {},
   "outputs": [],
   "source": []
  },
  {
   "cell_type": "markdown",
   "id": "3c33f9f2",
   "metadata": {},
   "source": [
    "# Target Extraction"
   ]
  },
  {
   "cell_type": "code",
   "execution_count": null,
   "id": "c32b2740",
   "metadata": {},
   "outputs": [],
   "source": [
    "test_set=pd.read_csv('C:/Users/Kois/LDA/36Tokenizedsentences.csv')\n",
    "test_set=test_set.drop(['Unnamed: 0'], axis = 1)\n",
    "test_set=test_set.to_numpy().tolist()\n",
    "new_list=[]\n",
    "temp_list=[]\n",
    "for x in test_set:\n",
    "    for item in x:\n",
    "        if str(item) != 'nan':\n",
    "            temp_list.append(item)\n",
    "    new_list.append(temp_list)\n",
    "    temp_list=[]\n",
    "test_set=new_list\n",
    "\n",
    "def lemmatizer(tokenList):\n",
    "    lemmatized_list=[]\n",
    "    for x in tokenList:\n",
    "        try:\n",
    "            y=hm.anal('amh',x,um=True)\n",
    "            b=y[0]['lemma'].split(\"|\")\n",
    "            lemmatized_list.append(b[0])\n",
    "        except:\n",
    "            print('next')\n",
    "    return lemmatized_list\n",
    "count=0\n",
    "test_set_doc=[]\n",
    "for x in test_set:\n",
    "    temp=(stopWordRemoval(x))\n",
    "    test_set_doc.append((temp))\n",
    "    count=count+1\n",
    "    #print(count)"
   ]
  },
  {
   "cell_type": "code",
   "execution_count": null,
   "id": "37c47162",
   "metadata": {},
   "outputs": [],
   "source": [
    "#  ldamodel.get_document_topics(dictionary.doc2bow())\n",
    "test_sentence_text=pd.read_csv('C:/Users/Kois/Downloads/100 sentences.csv')\n",
    "topic_prob=[]\n",
    "\n",
    "for doc in test_set_doc:\n",
    "    topic_prob.append(ldamodel.get_document_topics(dictionary.doc2bow(doc)))\n",
    "    \n",
    "for t,y in zip(topic_prob,test_sentence_text['tweet']):\n",
    "    print(y,sorted(t,key=lambda t:t[1], reverse=True))"
   ]
  },
  {
   "cell_type": "code",
   "execution_count": null,
   "id": "cd54b90c",
   "metadata": {},
   "outputs": [],
   "source": [
    "test_sentence_text=pd.read_csv('C:/Users/Kois/Downloads/100 sentences.csv')\n",
    "test_sentence_text['tweet']"
   ]
  },
  {
   "cell_type": "markdown",
   "id": "cae57c78",
   "metadata": {},
   "source": [
    "# setup: get the model's topics in their native ordering...\n",
    "all_topics = ldamodel.print_topics()\n",
    "# ...then create a empty list per topic to collect the docs:\n",
    "docs_per_topic = [[] for _ in all_topics]\n",
    "count=0\n",
    "# now, for every doc...\n",
    "for doc_id, doc_bow in enumerate(corpus):\n",
    "    # ...get its topics...\n",
    "    doc_topics = ldamodel.get_document_topics(doc_bow)\n",
    "    # ...& for each of its topics...\n",
    "    for topic_id, score in doc_topics:\n",
    "        # ...add the doc_id & its score to the topic's doc list\n",
    "        docs_per_topic[topic_id].append((doc_id, score))"
   ]
  },
  {
   "cell_type": "markdown",
   "id": "9e1d1e8d",
   "metadata": {},
   "source": [
    "print(docs_per_topic[11])"
   ]
  }
 ],
 "metadata": {
  "kernelspec": {
   "display_name": "Python 3 (ipykernel)",
   "language": "python",
   "name": "python3"
  },
  "language_info": {
   "codemirror_mode": {
    "name": "ipython",
    "version": 3
   },
   "file_extension": ".py",
   "mimetype": "text/x-python",
   "name": "python",
   "nbconvert_exporter": "python",
   "pygments_lexer": "ipython3",
   "version": "3.9.7"
  }
 },
 "nbformat": 4,
 "nbformat_minor": 5
}
