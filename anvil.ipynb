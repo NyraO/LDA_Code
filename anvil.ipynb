{
 "cells": [
  {
   "cell_type": "code",
   "execution_count": 1,
   "id": "9d4f0a91",
   "metadata": {},
   "outputs": [
    {
     "name": "stdout",
     "output_type": "stream",
     "text": [
      "Requirement already satisfied: anvil-uplink in c:\\users\\kois\\anaconda3\\lib\\site-packages (0.4.0)\n",
      "Requirement already satisfied: ws4py in c:\\users\\kois\\anaconda3\\lib\\site-packages (from anvil-uplink) (0.5.1)\n",
      "Collecting argparse\n",
      "  Using cached argparse-1.4.0-py2.py3-none-any.whl (23 kB)\n",
      "Requirement already satisfied: future in c:\\users\\kois\\anaconda3\\lib\\site-packages (from anvil-uplink) (0.18.2)\n",
      "Requirement already satisfied: six in c:\\users\\kois\\anaconda3\\lib\\site-packages (from anvil-uplink) (1.16.0)\n",
      "Installing collected packages: argparse\n",
      "Successfully installed argparse-1.4.0\n",
      "Note: you may need to restart the kernel to use updated packages.\n"
     ]
    }
   ],
   "source": [
    "pip install anvil-uplink"
   ]
  },
  {
   "cell_type": "code",
   "execution_count": 2,
   "id": "f3aef3a8",
   "metadata": {},
   "outputs": [
    {
     "name": "stdout",
     "output_type": "stream",
     "text": [
      "Connecting to wss://anvil.works/uplink\n",
      "Anvil websocket open\n",
      "Connected to \"Default environment\" as SERVER\n"
     ]
    }
   ],
   "source": [
    "import anvil.server\n",
    "\n",
    "anvil.server.connect(\"4JBRYQ2MUR7HBKUJXDUBIWZK-2VXDJRROQ3VSPBLR\")"
   ]
  },
  {
   "cell_type": "code",
   "execution_count": 4,
   "id": "2c4a6043",
   "metadata": {},
   "outputs": [],
   "source": [
    "import pickle\n",
    "@anvil.server.callable\n",
    "def predict_model(sqft_liv,bath,bed,floor):\n",
    "    model_linear = pickle.load(open('C:/Users/Kois/LDA_Code/LDA_Code/pickle lda/LDA_k20_a10_b0_c0.4707876629910356', 'rb'))\n",
    "    predictions=model_linear.predict([[sqft_liv,bath,bed,floor]])[0]\n",
    "    return(predictions)"
   ]
  },
  {
   "cell_type": "code",
   "execution_count": null,
   "id": "fe9de08e",
   "metadata": {},
   "outputs": [],
   "source": []
  }
 ],
 "metadata": {
  "kernelspec": {
   "display_name": "Python 3 (ipykernel)",
   "language": "python",
   "name": "python3"
  },
  "language_info": {
   "codemirror_mode": {
    "name": "ipython",
    "version": 3
   },
   "file_extension": ".py",
   "mimetype": "text/x-python",
   "name": "python",
   "nbconvert_exporter": "python",
   "pygments_lexer": "ipython3",
   "version": "3.9.7"
  }
 },
 "nbformat": 4,
 "nbformat_minor": 5
}
